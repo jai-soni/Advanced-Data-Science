{
 "cells": [
  {
   "cell_type": "code",
   "execution_count": 2,
   "metadata": {
    "collapsed": true
   },
   "outputs": [],
   "source": [
    "import requests"
   ]
  },
  {
   "cell_type": "markdown",
   "metadata": {},
   "source": [
    "<b>Scraping the news headlines from the news api</b>"
   ]
  },
  {
   "cell_type": "code",
   "execution_count": 3,
   "metadata": {
    "collapsed": true
   },
   "outputs": [],
   "source": [
    "contents = requests.get(\"https://newsapi.org/v2/top-headlines?country=us&category=business&apiKey=abca02159d9b45019d1e1fa53ab64cae\")"
   ]
  },
  {
   "cell_type": "code",
   "execution_count": 4,
   "metadata": {
    "collapsed": true
   },
   "outputs": [],
   "source": [
    "content_json_text = contents.text"
   ]
  },
  {
   "cell_type": "code",
   "execution_count": 5,
   "metadata": {
    "collapsed": true
   },
   "outputs": [],
   "source": [
    "import json"
   ]
  },
  {
   "cell_type": "code",
   "execution_count": 6,
   "metadata": {
    "collapsed": true
   },
   "outputs": [],
   "source": [
    "articles = json.loads(content_json_text)['articles']"
   ]
  },
  {
   "cell_type": "code",
   "execution_count": 7,
   "metadata": {},
   "outputs": [],
   "source": [
    "articles[4]['description']"
   ]
  },
  {
   "cell_type": "markdown",
   "metadata": {},
   "source": [
    "<b>Accesing the twitter API</b>"
   ]
  },
  {
   "cell_type": "code",
   "execution_count": 8,
   "metadata": {
    "collapsed": true
   },
   "outputs": [],
   "source": [
    "consumer_key = '1Cvu0r3U1bafJE0prSuJXUhS6'"
   ]
  },
  {
   "cell_type": "code",
   "execution_count": 9,
   "metadata": {
    "collapsed": true
   },
   "outputs": [],
   "source": [
    "consumer_secret = 'l2NhimsNqLQbM490spvEt2sDHJs4KJEeWQ2FkHP2P0LpjggtjY'\n",
    "access_token = '420232136-pNrWEakqUOq8kbHPsX2jCTrm7ocyAyIYpHe3mCNZ'\n",
    "access_secret = 'wfzXzbtqYfhIhsD2egUJC8l7Gy2fMcrKrw2Pq50BW9qZA'"
   ]
  },
  {
   "cell_type": "code",
   "execution_count": 10,
   "metadata": {
    "collapsed": true
   },
   "outputs": [],
   "source": [
    "def load_api():\n",
    "    ''' Function that loads the twitter API after authorizing\n",
    "        the user. '''\n",
    "\n",
    "    consumer_key = '1Cvu0r3U1bafJE0prSuJXUhS6'\n",
    "    consumer_secret = 'l2NhimsNqLQbM490spvEt2sDHJs4KJEeWQ2FkHP2P0LpjggtjY'\n",
    "    access_token = '420232136-pNrWEakqUOq8kbHPsX2jCTrm7ocyAyIYpHe3mCNZ'\n",
    "    access_secret = 'wfzXzbtqYfhIhsD2egUJC8l7Gy2fMcrKrw2Pq50BW9qZA'\n",
    "    auth = OAuthHandler(consumer_key, consumer_secret)\n",
    "    auth.set_access_token(access_token, access_secret)\n",
    "    # load the twitter API via tweepy\n",
    "    return tweepy.API(auth)"
   ]
  },
  {
   "cell_type": "markdown",
   "metadata": {},
   "source": [
    "<b>Using Normal Twitter package</b>"
   ]
  },
  {
   "cell_type": "code",
   "execution_count": 11,
   "metadata": {},
   "outputs": [
    {
     "name": "stdout",
     "output_type": "stream",
     "text": [
      "Requirement already satisfied: twitter in /Users/saurabhkulkarni/anaconda3/lib/python3.6/site-packages\n",
      "\u001b[33mYou are using pip version 9.0.1, however version 10.0.0 is available.\n",
      "You should consider upgrading via the 'pip install --upgrade pip' command.\u001b[0m\n"
     ]
    }
   ],
   "source": [
    "!pip install twitter"
   ]
  },
  {
   "cell_type": "code",
   "execution_count": 12,
   "metadata": {
    "collapsed": true
   },
   "outputs": [],
   "source": [
    "from twitter import *"
   ]
  },
  {
   "cell_type": "code",
   "execution_count": 13,
   "metadata": {
    "collapsed": true
   },
   "outputs": [],
   "source": [
    "twitter = Twitter(auth = OAuth('420232136-pNrWEakqUOq8kbHPsX2jCTrm7ocyAyIYpHe3mCNZ','wfzXzbtqYfhIhsD2egUJC8l7Gy2fMcrKrw2Pq50BW9qZA','1Cvu0r3U1bafJE0prSuJXUhS6','l2NhimsNqLQbM490spvEt2sDHJs4KJEeWQ2FkHP2P0LpjggtjY'))"
   ]
  },
  {
   "cell_type": "code",
   "execution_count": 14,
   "metadata": {},
   "outputs": [
    {
     "data": {
      "text/plain": [
       "<twitter.api.Twitter at 0x111523978>"
      ]
     },
     "execution_count": 14,
     "metadata": {},
     "output_type": "execute_result"
    }
   ],
   "source": [
    "twitter"
   ]
  },
  {
   "cell_type": "code",
   "execution_count": 15,
   "metadata": {
    "collapsed": true
   },
   "outputs": [],
   "source": [
    "query = twitter.search.tweets(q = \"Southwest\")"
   ]
  },
  {
   "cell_type": "code",
   "execution_count": 16,
   "metadata": {},
   "outputs": [
    {
     "data": {
      "text/plain": [
       "\"Metal fatigue, a long-time engineering problem for aviation, contributed to Southwest flight's engine failure https://t.co/cY4durdWaq\""
      ]
     },
     "execution_count": 16,
     "metadata": {},
     "output_type": "execute_result"
    }
   ],
   "source": [
    "query['statuses'][12]['text']"
   ]
  },
  {
   "cell_type": "code",
   "execution_count": 17,
   "metadata": {},
   "outputs": [
    {
     "data": {
      "text/plain": [
       "15"
      ]
     },
     "execution_count": 17,
     "metadata": {},
     "output_type": "execute_result"
    }
   ],
   "source": [
    "len(query['statuses'])"
   ]
  },
  {
   "cell_type": "code",
   "execution_count": 18,
   "metadata": {},
   "outputs": [
    {
     "name": "stdout",
     "output_type": "stream",
     "text": [
      "the content was: On Southwest flight, a firefighter heard a loud pop — then sprang into action https://t.co/6xUhszC3kH\n",
      "the content was: RT @angeladuckw: Character under pressure.\n",
      "https://t.co/UaKSH9lTqe\n",
      "the content was: RT @cjxpg23: YO SOUTHWEST CBFL! ALL H.S. SENIORS &amp; CURRENT COLLEGE STUDENTS ARE WELCOME TO ATTEND EXERT 2018! HMU FOR MORE INFO! https://t.…\n",
      "the content was: RT @infobae: Revelaron qué causó la muerte de la mujer succionada en el vuelo de Southwest Airlines https://t.co/1G5kgJGR2T https://t.co/E0…\n",
      "the content was: RT @TheCenteredEgg: Amazing woman:\n",
      "https://t.co/iwe44kXGdo via @ABC\n",
      "the content was: Passenger claims Southwest Airlines lost her mother's prosthetic foot https://t.co/tPxLH02rMq #FoxNews\n",
      "the content was: RT @VP: Saddened by the tragic loss of Jennifer Riordan – her family is in our prayers – inspired by the heroism &amp; professionalism of South…\n",
      "the content was: RT @kexuqejan: Philadelphia Fire Commissioner Adam Thiel said earlier that one of the 149 passengers and crew members on board was taken to…\n",
      "the content was: 🏛️ Sucked out of a plane? How it is even possible?\n",
      "\n",
      "It nearly happened Tuesday aboard a Southwest A… https://t.co/25WkGVr7Xh\n",
      "the content was: RT @IWV: Tammie Jo Shults, former @USNavy fighter pilot, safely landed @SouthwestAir 1380. Once on the ground, Shults thanked the passenger…\n",
      "the content was: RT @NTelevisa_com: Tammie Jo Shults, la piloto del avión de Southwest, que aterrizó de emergencia en Filadelfia, se convierte en heroína po…\n",
      "the content was: RT @LightWorkers: In case you missed it.\n",
      "\n",
      "This Christian pilot is a true hero in its purest form .\n",
      "\n",
      "https://t.co/MmX1eXRnKi\n",
      "the content was: Metal fatigue, a long-time engineering problem for aviation, contributed to Southwest flight's engine failure https://t.co/cY4durdWaq\n",
      "the content was: RT @LifeZette: Southwest traveler from Texas recalled the ordeal of this week and praised the Lord — as did the pilot who steered the plane…\n",
      "the content was: Airlines Check Their Engines for the Flaw That Hit Southwest https://t.co/gadUWZbk4O\n"
     ]
    }
   ],
   "source": [
    "for result in query['statuses']:\n",
    "    print(\"the content was:\",result['text'])"
   ]
  },
  {
   "cell_type": "code",
   "execution_count": 19,
   "metadata": {
    "collapsed": true
   },
   "outputs": [],
   "source": [
    "data = query['statuses']"
   ]
  },
  {
   "cell_type": "code",
   "execution_count": 20,
   "metadata": {
    "collapsed": true
   },
   "outputs": [],
   "source": [
    "tweet1 = []\n",
    "number_favourites1 = []\n",
    "vs_compound1 = []\n",
    "vs_pos1 = []\n",
    "vs_neu1 = []\n",
    "vs_neg1 = []"
   ]
  },
  {
   "cell_type": "code",
   "execution_count": 21,
   "metadata": {
    "collapsed": true
   },
   "outputs": [],
   "source": [
    "from vaderSentiment.vaderSentiment import SentimentIntensityAnalyzer\n",
    "analyzer = SentimentIntensityAnalyzer()\n",
    "\n",
    "for i in range(0, len(data)):\n",
    "    tweet1.append(data[i]['text'])\n",
    "    number_favourites1.append(data[i]['favorite_count'])\n",
    "    vs_compound1.append(analyzer.polarity_scores(data[i]['text'])['compound'])\n",
    "    vs_pos1.append(analyzer.polarity_scores(data[i]['text'])['pos'])\n",
    "    vs_neu1.append(analyzer.polarity_scores(data[i]['text'])['neu'])\n",
    "    vs_neg1.append(analyzer.polarity_scores(data[i]['text'])['neg'])"
   ]
  },
  {
   "cell_type": "code",
   "execution_count": 23,
   "metadata": {
    "scrolled": true
   },
   "outputs": [
    {
     "data": {
      "text/html": [
       "<div>\n",
       "<style scoped>\n",
       "    .dataframe tbody tr th:only-of-type {\n",
       "        vertical-align: middle;\n",
       "    }\n",
       "\n",
       "    .dataframe tbody tr th {\n",
       "        vertical-align: top;\n",
       "    }\n",
       "\n",
       "    .dataframe thead th {\n",
       "        text-align: right;\n",
       "    }\n",
       "</style>\n",
       "<table border=\"1\" class=\"dataframe\">\n",
       "  <thead>\n",
       "    <tr style=\"text-align: right;\">\n",
       "      <th></th>\n",
       "      <th>Tweet</th>\n",
       "      <th>Favourites</th>\n",
       "      <th>Compound</th>\n",
       "      <th>Positive</th>\n",
       "      <th>Neutral</th>\n",
       "      <th>Negative</th>\n",
       "    </tr>\n",
       "  </thead>\n",
       "  <tbody>\n",
       "    <tr>\n",
       "      <th>0</th>\n",
       "      <td>On Southwest flight, a firefighter heard a lou...</td>\n",
       "      <td>0</td>\n",
       "      <td>0.0000</td>\n",
       "      <td>0.000</td>\n",
       "      <td>1.000</td>\n",
       "      <td>0.000</td>\n",
       "    </tr>\n",
       "    <tr>\n",
       "      <th>1</th>\n",
       "      <td>RT @angeladuckw: Character under pressure.\\nht...</td>\n",
       "      <td>0</td>\n",
       "      <td>-0.2960</td>\n",
       "      <td>0.000</td>\n",
       "      <td>0.694</td>\n",
       "      <td>0.306</td>\n",
       "    </tr>\n",
       "    <tr>\n",
       "      <th>2</th>\n",
       "      <td>RT @cjxpg23: YO SOUTHWEST CBFL! ALL H.S. SENIO...</td>\n",
       "      <td>0</td>\n",
       "      <td>0.6817</td>\n",
       "      <td>0.173</td>\n",
       "      <td>0.827</td>\n",
       "      <td>0.000</td>\n",
       "    </tr>\n",
       "    <tr>\n",
       "      <th>3</th>\n",
       "      <td>RT @infobae: Revelaron qué causó la muerte de ...</td>\n",
       "      <td>0</td>\n",
       "      <td>0.0000</td>\n",
       "      <td>0.000</td>\n",
       "      <td>1.000</td>\n",
       "      <td>0.000</td>\n",
       "    </tr>\n",
       "    <tr>\n",
       "      <th>4</th>\n",
       "      <td>RT @TheCenteredEgg: Amazing woman:\\nhttps://t....</td>\n",
       "      <td>0</td>\n",
       "      <td>0.5859</td>\n",
       "      <td>0.388</td>\n",
       "      <td>0.612</td>\n",
       "      <td>0.000</td>\n",
       "    </tr>\n",
       "    <tr>\n",
       "      <th>5</th>\n",
       "      <td>Passenger claims Southwest Airlines lost her m...</td>\n",
       "      <td>0</td>\n",
       "      <td>-0.3182</td>\n",
       "      <td>0.000</td>\n",
       "      <td>0.813</td>\n",
       "      <td>0.187</td>\n",
       "    </tr>\n",
       "    <tr>\n",
       "      <th>6</th>\n",
       "      <td>RT @VP: Saddened by the tragic loss of Jennife...</td>\n",
       "      <td>0</td>\n",
       "      <td>-0.1779</td>\n",
       "      <td>0.202</td>\n",
       "      <td>0.548</td>\n",
       "      <td>0.251</td>\n",
       "    </tr>\n",
       "    <tr>\n",
       "      <th>7</th>\n",
       "      <td>RT @kexuqejan: Philadelphia Fire Commissioner ...</td>\n",
       "      <td>0</td>\n",
       "      <td>-0.3400</td>\n",
       "      <td>0.000</td>\n",
       "      <td>0.902</td>\n",
       "      <td>0.098</td>\n",
       "    </tr>\n",
       "    <tr>\n",
       "      <th>8</th>\n",
       "      <td>🏛️ Sucked out of a plane? How it is even possi...</td>\n",
       "      <td>0</td>\n",
       "      <td>-0.5040</td>\n",
       "      <td>0.054</td>\n",
       "      <td>0.782</td>\n",
       "      <td>0.164</td>\n",
       "    </tr>\n",
       "    <tr>\n",
       "      <th>9</th>\n",
       "      <td>RT @IWV: Tammie Jo Shults, former @USNavy figh...</td>\n",
       "      <td>0</td>\n",
       "      <td>0.7717</td>\n",
       "      <td>0.300</td>\n",
       "      <td>0.700</td>\n",
       "      <td>0.000</td>\n",
       "    </tr>\n",
       "    <tr>\n",
       "      <th>10</th>\n",
       "      <td>RT @NTelevisa_com: Tammie Jo Shults, la piloto...</td>\n",
       "      <td>0</td>\n",
       "      <td>0.0000</td>\n",
       "      <td>0.000</td>\n",
       "      <td>1.000</td>\n",
       "      <td>0.000</td>\n",
       "    </tr>\n",
       "    <tr>\n",
       "      <th>11</th>\n",
       "      <td>RT @LightWorkers: In case you missed it.\\n\\nTh...</td>\n",
       "      <td>0</td>\n",
       "      <td>0.6369</td>\n",
       "      <td>0.271</td>\n",
       "      <td>0.636</td>\n",
       "      <td>0.093</td>\n",
       "    </tr>\n",
       "    <tr>\n",
       "      <th>12</th>\n",
       "      <td>Metal fatigue, a long-time engineering problem...</td>\n",
       "      <td>0</td>\n",
       "      <td>-0.7906</td>\n",
       "      <td>0.000</td>\n",
       "      <td>0.579</td>\n",
       "      <td>0.421</td>\n",
       "    </tr>\n",
       "    <tr>\n",
       "      <th>13</th>\n",
       "      <td>RT @LifeZette: Southwest traveler from Texas r...</td>\n",
       "      <td>0</td>\n",
       "      <td>0.4939</td>\n",
       "      <td>0.122</td>\n",
       "      <td>0.878</td>\n",
       "      <td>0.000</td>\n",
       "    </tr>\n",
       "    <tr>\n",
       "      <th>14</th>\n",
       "      <td>Airlines Check Their Engines for the Flaw That...</td>\n",
       "      <td>0</td>\n",
       "      <td>0.0000</td>\n",
       "      <td>0.000</td>\n",
       "      <td>1.000</td>\n",
       "      <td>0.000</td>\n",
       "    </tr>\n",
       "  </tbody>\n",
       "</table>\n",
       "</div>"
      ],
      "text/plain": [
       "                                                Tweet  Favourites  Compound  \\\n",
       "0   On Southwest flight, a firefighter heard a lou...           0    0.0000   \n",
       "1   RT @angeladuckw: Character under pressure.\\nht...           0   -0.2960   \n",
       "2   RT @cjxpg23: YO SOUTHWEST CBFL! ALL H.S. SENIO...           0    0.6817   \n",
       "3   RT @infobae: Revelaron qué causó la muerte de ...           0    0.0000   \n",
       "4   RT @TheCenteredEgg: Amazing woman:\\nhttps://t....           0    0.5859   \n",
       "5   Passenger claims Southwest Airlines lost her m...           0   -0.3182   \n",
       "6   RT @VP: Saddened by the tragic loss of Jennife...           0   -0.1779   \n",
       "7   RT @kexuqejan: Philadelphia Fire Commissioner ...           0   -0.3400   \n",
       "8   🏛️ Sucked out of a plane? How it is even possi...           0   -0.5040   \n",
       "9   RT @IWV: Tammie Jo Shults, former @USNavy figh...           0    0.7717   \n",
       "10  RT @NTelevisa_com: Tammie Jo Shults, la piloto...           0    0.0000   \n",
       "11  RT @LightWorkers: In case you missed it.\\n\\nTh...           0    0.6369   \n",
       "12  Metal fatigue, a long-time engineering problem...           0   -0.7906   \n",
       "13  RT @LifeZette: Southwest traveler from Texas r...           0    0.4939   \n",
       "14  Airlines Check Their Engines for the Flaw That...           0    0.0000   \n",
       "\n",
       "    Positive  Neutral  Negative  \n",
       "0      0.000    1.000     0.000  \n",
       "1      0.000    0.694     0.306  \n",
       "2      0.173    0.827     0.000  \n",
       "3      0.000    1.000     0.000  \n",
       "4      0.388    0.612     0.000  \n",
       "5      0.000    0.813     0.187  \n",
       "6      0.202    0.548     0.251  \n",
       "7      0.000    0.902     0.098  \n",
       "8      0.054    0.782     0.164  \n",
       "9      0.300    0.700     0.000  \n",
       "10     0.000    1.000     0.000  \n",
       "11     0.271    0.636     0.093  \n",
       "12     0.000    0.579     0.421  \n",
       "13     0.122    0.878     0.000  \n",
       "14     0.000    1.000     0.000  "
      ]
     },
     "execution_count": 23,
     "metadata": {},
     "output_type": "execute_result"
    }
   ],
   "source": [
    "from pandas import Series, DataFrame\n",
    "\n",
    "twitter_df1 = DataFrame({'Tweet': tweet1,\n",
    "                        'Favourites': number_favourites1,\n",
    "                        'Compound': vs_compound1,\n",
    "                        'Positive': vs_pos1,\n",
    "                        'Neutral': vs_neu1,\n",
    "                        'Negative': vs_neg1})\n",
    "twitter_df1 = twitter_df1[['Tweet', 'Favourites', 'Compound',\n",
    "                         'Positive', 'Neutral', 'Negative']]\n",
    "\n",
    "# Have a look at the top 5 results.\n",
    "twitter_df1"
   ]
  },
  {
   "cell_type": "markdown",
   "metadata": {},
   "source": [
    "<b> Using tweepy</b>"
   ]
  },
  {
   "cell_type": "code",
   "execution_count": null,
   "metadata": {},
   "outputs": [],
   "source": [
    "!pip install tweepy"
   ]
  },
  {
   "cell_type": "code",
   "execution_count": null,
   "metadata": {
    "collapsed": true
   },
   "outputs": [],
   "source": [
    "import tweepy\n",
    "import json"
   ]
  },
  {
   "cell_type": "code",
   "execution_count": null,
   "metadata": {
    "collapsed": true
   },
   "outputs": [],
   "source": [
    "# Enter authorisations\n",
    "consumer_key = \"1Cvu0r3U1bafJE0prSuJXUhS6\"\n",
    "consumer_secret = \"l2NhimsNqLQbM490spvEt2sDHJs4KJEeWQ2FkHP2P0LpjggtjY\"\n",
    "access_key = \"420232136-pNrWEakqUOq8kbHPsX2jCTrm7ocyAyIYpHe3mCNZ\"\n",
    "access_secret = \"wfzXzbtqYfhIhsD2egUJC8l7Gy2fMcrKrw2Pq50BW9qZA\"\n",
    "\n",
    "# Set up your authorisations\n",
    "auth = tweepy.OAuthHandler(consumer_key, consumer_secret)\n",
    "auth.set_access_token(access_key, access_secret)\n",
    "\n",
    "# Set up API call\n",
    "api = tweepy.API(auth, parser = tweepy.parsers.JSONParser())"
   ]
  },
  {
   "cell_type": "code",
   "execution_count": null,
   "metadata": {
    "collapsed": true
   },
   "outputs": [],
   "source": [
    "searchquery = '\"new years resolution\" -filter:retweets'"
   ]
  },
  {
   "cell_type": "code",
   "execution_count": null,
   "metadata": {
    "collapsed": true
   },
   "outputs": [],
   "source": [
    "data = api.search(q = searchquery, count = 100, lang = 'en', result_type = 'mixed')"
   ]
  },
  {
   "cell_type": "code",
   "execution_count": null,
   "metadata": {
    "scrolled": true
   },
   "outputs": [],
   "source": []
  },
  {
   "cell_type": "code",
   "execution_count": null,
   "metadata": {
    "collapsed": true
   },
   "outputs": [],
   "source": [
    "tweet = []\n",
    "number_favourites = []\n",
    "vs_compound = []\n",
    "vs_pos = []\n",
    "vs_neu = []\n",
    "vs_neg = []"
   ]
  },
  {
   "cell_type": "code",
   "execution_count": null,
   "metadata": {},
   "outputs": [],
   "source": [
    "!pip install vaderSentiment"
   ]
  },
  {
   "cell_type": "code",
   "execution_count": null,
   "metadata": {
    "collapsed": true
   },
   "outputs": [],
   "source": [
    "from vaderSentiment.vaderSentiment import SentimentIntensityAnalyzer\n",
    "analyzer = SentimentIntensityAnalyzer()\n",
    "\n",
    "for i in range(0, len(data_all)):\n",
    "    tweet.append(data_all[i]['text'])\n",
    "    number_favourites.append(data_all[i]['favorite_count'])\n",
    "    vs_compound.append(analyzer.polarity_scores(data_all[i]['text'])['compound'])\n",
    "    vs_pos.append(analyzer.polarity_scores(data_all[i]['text'])['pos'])\n",
    "    vs_neu.append(analyzer.polarity_scores(data_all[i]['text'])['neu'])\n",
    "    vs_neg.append(analyzer.polarity_scores(data_all[i]['text'])['neg'])"
   ]
  },
  {
   "cell_type": "code",
   "execution_count": null,
   "metadata": {},
   "outputs": [],
   "source": [
    "from pandas import Series, DataFrame\n",
    "\n",
    "twitter_df = DataFrame({'Tweet': tweet,\n",
    "                        'Favourites': number_favourites,\n",
    "                        'Compound': vs_compound,\n",
    "                        'Positive': vs_pos,\n",
    "                        'Neutral': vs_neu,\n",
    "                        'Negative': vs_neg})\n",
    "twitter_df = twitter_df[['Tweet', 'Favourites', 'Compound',\n",
    "                         'Positive', 'Neutral', 'Negative']]\n",
    "\n",
    "# Have a look at the top 5 results.\n",
    "twitter_df.head()"
   ]
  },
  {
   "cell_type": "code",
   "execution_count": 26,
   "metadata": {},
   "outputs": [],
   "source": [
    "data = twitter_df1.iloc[:,0:1]"
   ]
  },
  {
   "cell_type": "code",
   "execution_count": 29,
   "metadata": {},
   "outputs": [],
   "source": [
    "data = data.reset_index()"
   ]
  },
  {
   "cell_type": "code",
   "execution_count": 30,
   "metadata": {},
   "outputs": [
    {
     "data": {
      "text/html": [
       "<div>\n",
       "<style scoped>\n",
       "    .dataframe tbody tr th:only-of-type {\n",
       "        vertical-align: middle;\n",
       "    }\n",
       "\n",
       "    .dataframe tbody tr th {\n",
       "        vertical-align: top;\n",
       "    }\n",
       "\n",
       "    .dataframe thead th {\n",
       "        text-align: right;\n",
       "    }\n",
       "</style>\n",
       "<table border=\"1\" class=\"dataframe\">\n",
       "  <thead>\n",
       "    <tr style=\"text-align: right;\">\n",
       "      <th></th>\n",
       "      <th>index</th>\n",
       "      <th>Tweet</th>\n",
       "    </tr>\n",
       "  </thead>\n",
       "  <tbody>\n",
       "    <tr>\n",
       "      <th>0</th>\n",
       "      <td>0</td>\n",
       "      <td>On Southwest flight, a firefighter heard a lou...</td>\n",
       "    </tr>\n",
       "    <tr>\n",
       "      <th>1</th>\n",
       "      <td>1</td>\n",
       "      <td>RT @angeladuckw: Character under pressure.\\nht...</td>\n",
       "    </tr>\n",
       "    <tr>\n",
       "      <th>2</th>\n",
       "      <td>2</td>\n",
       "      <td>RT @cjxpg23: YO SOUTHWEST CBFL! ALL H.S. SENIO...</td>\n",
       "    </tr>\n",
       "    <tr>\n",
       "      <th>3</th>\n",
       "      <td>3</td>\n",
       "      <td>RT @infobae: Revelaron qué causó la muerte de ...</td>\n",
       "    </tr>\n",
       "    <tr>\n",
       "      <th>4</th>\n",
       "      <td>4</td>\n",
       "      <td>RT @TheCenteredEgg: Amazing woman:\\nhttps://t....</td>\n",
       "    </tr>\n",
       "    <tr>\n",
       "      <th>5</th>\n",
       "      <td>5</td>\n",
       "      <td>Passenger claims Southwest Airlines lost her m...</td>\n",
       "    </tr>\n",
       "    <tr>\n",
       "      <th>6</th>\n",
       "      <td>6</td>\n",
       "      <td>RT @VP: Saddened by the tragic loss of Jennife...</td>\n",
       "    </tr>\n",
       "    <tr>\n",
       "      <th>7</th>\n",
       "      <td>7</td>\n",
       "      <td>RT @kexuqejan: Philadelphia Fire Commissioner ...</td>\n",
       "    </tr>\n",
       "    <tr>\n",
       "      <th>8</th>\n",
       "      <td>8</td>\n",
       "      <td>🏛️ Sucked out of a plane? How it is even possi...</td>\n",
       "    </tr>\n",
       "    <tr>\n",
       "      <th>9</th>\n",
       "      <td>9</td>\n",
       "      <td>RT @IWV: Tammie Jo Shults, former @USNavy figh...</td>\n",
       "    </tr>\n",
       "    <tr>\n",
       "      <th>10</th>\n",
       "      <td>10</td>\n",
       "      <td>RT @NTelevisa_com: Tammie Jo Shults, la piloto...</td>\n",
       "    </tr>\n",
       "    <tr>\n",
       "      <th>11</th>\n",
       "      <td>11</td>\n",
       "      <td>RT @LightWorkers: In case you missed it.\\n\\nTh...</td>\n",
       "    </tr>\n",
       "    <tr>\n",
       "      <th>12</th>\n",
       "      <td>12</td>\n",
       "      <td>Metal fatigue, a long-time engineering problem...</td>\n",
       "    </tr>\n",
       "    <tr>\n",
       "      <th>13</th>\n",
       "      <td>13</td>\n",
       "      <td>RT @LifeZette: Southwest traveler from Texas r...</td>\n",
       "    </tr>\n",
       "    <tr>\n",
       "      <th>14</th>\n",
       "      <td>14</td>\n",
       "      <td>Airlines Check Their Engines for the Flaw That...</td>\n",
       "    </tr>\n",
       "  </tbody>\n",
       "</table>\n",
       "</div>"
      ],
      "text/plain": [
       "    index                                              Tweet\n",
       "0       0  On Southwest flight, a firefighter heard a lou...\n",
       "1       1  RT @angeladuckw: Character under pressure.\\nht...\n",
       "2       2  RT @cjxpg23: YO SOUTHWEST CBFL! ALL H.S. SENIO...\n",
       "3       3  RT @infobae: Revelaron qué causó la muerte de ...\n",
       "4       4  RT @TheCenteredEgg: Amazing woman:\\nhttps://t....\n",
       "5       5  Passenger claims Southwest Airlines lost her m...\n",
       "6       6  RT @VP: Saddened by the tragic loss of Jennife...\n",
       "7       7  RT @kexuqejan: Philadelphia Fire Commissioner ...\n",
       "8       8  🏛️ Sucked out of a plane? How it is even possi...\n",
       "9       9  RT @IWV: Tammie Jo Shults, former @USNavy figh...\n",
       "10     10  RT @NTelevisa_com: Tammie Jo Shults, la piloto...\n",
       "11     11  RT @LightWorkers: In case you missed it.\\n\\nTh...\n",
       "12     12  Metal fatigue, a long-time engineering problem...\n",
       "13     13  RT @LifeZette: Southwest traveler from Texas r...\n",
       "14     14  Airlines Check Their Engines for the Flaw That..."
      ]
     },
     "execution_count": 30,
     "metadata": {},
     "output_type": "execute_result"
    }
   ],
   "source": [
    "data"
   ]
  },
  {
   "cell_type": "code",
   "execution_count": null,
   "metadata": {
    "collapsed": true
   },
   "outputs": [],
   "source": []
  }
 ],
 "metadata": {
  "kernelspec": {
   "display_name": "Python 3",
   "language": "python",
   "name": "python3"
  },
  "language_info": {
   "codemirror_mode": {
    "name": "ipython",
    "version": 3
   },
   "file_extension": ".py",
   "mimetype": "text/x-python",
   "name": "python",
   "nbconvert_exporter": "python",
   "pygments_lexer": "ipython3",
   "version": "3.6.3"
  }
 },
 "nbformat": 4,
 "nbformat_minor": 2
}
