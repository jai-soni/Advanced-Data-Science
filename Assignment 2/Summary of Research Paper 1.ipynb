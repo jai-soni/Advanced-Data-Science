{
 "cells": [
  {
   "cell_type": "markdown",
   "metadata": {},
   "source": [
    "<center><h2><U>Summary of Research Paper:</h2></U></center>\n",
    "<h1><center>DATA DRIVEN PREDICTIONS MODELS OF ENERGY USE OF APPLIANCES IN A LOW ENERGY HOUSE</h1></center>"
   ]
  },
  {
   "cell_type": "markdown",
   "metadata": {},
   "source": [
    "THE LIGHTING AND APPLIANCES USED 1.23 TIMES MORE ENERGY THAN DOMESTIC HOT WATER IN SPAIN, 1.28 MORE IN EUROPE and \n",
    "1.74 MORE THAN IN UNITED STATES ACCORDING TO DATA FOR RESIDENTIAL SECTOR IN 2003"
   ]
  },
  {
   "cell_type": "markdown",
   "metadata": {},
   "source": [
    "<b><u>ABSTRACT</u></b>"
   ]
  },
  {
   "cell_type": "markdown",
   "metadata": {},
   "source": [
    "1) Focuses on energy use of appliances in a low energy house.<br>\n",
    "2) Features on Data Removal to remove non-predictive parameters and feature ranking.<br>\n",
    "3) 4 models were used to evaluate the results obtained.<br>\n",
    "4) Data from kitchen, laundry and living room were ranked with high significance during the prediction.<br>\n",
    "5) Those models which used only weather data as a parameter found that atmospheric pressure was the most relevant feature to be considered during prediction.<br>\n"
   ]
  },
  {
   "cell_type": "markdown",
   "metadata": {},
   "source": [
    "<b><u>INTRODUCTION</u></b>"
   ]
  },
  {
   "cell_type": "markdown",
   "metadata": {},
   "source": [
    "1) Electricity consumption depends on 2 main factors which are:<br>\n",
    "     -  Type and number of appliances.\n",
    "     -  Use of appliances by the occupants.\n",
    "2) Different outdoor and indoor parameters were considered while prediction.<br>\n",
    "3) Different combinations of predictors are used in the 4 models to contrast and identify the significant ones in the data.<br>\n",
    "4) During the process, research related to studies of appliances load in buildings and modelling are also included.<br>\n"
   ]
  },
  {
   "cell_type": "markdown",
   "metadata": {},
   "source": [
    "<b><u>RESEARCH OBJECTIVES:\n",
    "</u></b>"
   ]
  },
  {
   "cell_type": "markdown",
   "metadata": {},
   "source": [
    "1) The purpose of this work is to understand the relationships between appliances energy consumption and different predictors.<br>\n",
    "2) After the introduction, the paper continues with a description of the house and follows with a description of the energy meters and wireless sensor network.<br>\n",
    "3) Then, series of Exploratory Data Analysis, Data Filtering and the training of models with different data subsets is shown and the evaluation of trained models in the test sets is presented.<br>\n"
   ]
  },
  {
   "cell_type": "markdown",
   "metadata": {},
   "source": [
    "<b><u>QUESTIONS WHICH THIS PAPER EXPLORES MORE ABOUT:\n",
    "</u></b>"
   ]
  },
  {
   "cell_type": "markdown",
   "metadata": {},
   "source": [
    "1) Is the weather data from a nearby airport representative enough to predict the energy consumption through appliances?<br>\n",
    "2) Can the temperature and humidity measurements from the wireless network help in energy predictions?<br>\n",
    "3) From the data used in all the models which features are most useful in predictions?<br>\n",
    "4) What effect does sub-metered energy measurement has on the prediction?<br>\n"
   ]
  },
  {
   "cell_type": "markdown",
   "metadata": {},
   "source": [
    "<b><u>EXPLORATORY DATA ANALYSIS:\n",
    "</u></b>"
   ]
  },
  {
   "cell_type": "markdown",
   "metadata": {},
   "source": [
    "1) 75% of the data is used for training the models and the rest in testing them.<br>\n",
    "2) Pair plots are created which shows the relationships between all the variables with the energy consumption of appliances in the training set. Psych package was used for the same.<br>\n",
    "3) The highest correlation is observed between NSM and appliances with a value of 0.22. Also there is a positive correlation with appliances consumption and wind speed with a value of 0.09, higher wind speeds correlate with higher energy consumption by the appliances.<br>\n",
    "4) Negative correlation was observed between appliances and RHout with a value of -0.15.<br>\n",
    "5) It is seen that the energy consumption starts to rise around 6a.m and then around noon there are load surges. It is clearly observed that there is increase in demand for energy around 6p.m <br>\n"
   ]
  },
  {
   "cell_type": "markdown",
   "metadata": {},
   "source": [
    "<b><u>FEATURES FILTERING AND IMPORTANCE:\n",
    "</u></b>"
   ]
  },
  {
   "cell_type": "markdown",
   "metadata": {},
   "source": [
    "1) Boruta package was used to carry out feature selection. Boruta package compares importance of features with importance of shadow attributes that are created by shuffling original ones.<br>\n",
    "2) To test how many variables are optimal to minimize the RMSE, RFE(Recursive Feature Elimination) is used to select optimal inputs.<br>\n"
   ]
  },
  {
   "cell_type": "markdown",
   "metadata": {},
   "source": [
    "<b><u>PERFORMANCE OF REGRESSION MODELS:\n",
    "</u></b>"
   ]
  },
  {
   "cell_type": "markdown",
   "metadata": {},
   "source": [
    "1) Initially, Multiple Linear Regression Model was trained which uses all the predictors and finds the appropriate slope quantifying the effect of each predictor and the response. The residuals were computed as the difference between the real values and the predicted values. The linear model could not identify the relationship between variables and energy consumption efficiently due to residuals being not distributed normally along horizontal axis.<br>\n",
    "2) Support Vector Machines with radial basis kernel function was trained next which has numerical advantages which are helpful in this study. <br>\n",
    "3) Random Forest which is a tree based model requires finding the optimum number of trees and the number of randomly selected predictors. But, RMSE was not changed after 300 number of trees and 18 predictors.<br>\n",
    "4) GBM model improved the prediction by using first trees information, finding optimal parameters for number of trees and maximum depth of tree.<br>\n"
   ]
  },
  {
   "cell_type": "markdown",
   "metadata": {},
   "source": [
    "<b><u>MODEL VALIDATION:\n",
    "</u></b>"
   ]
  },
  {
   "cell_type": "markdown",
   "metadata": {},
   "source": [
    "1) After training the models, each model has 30 results from 10-fold cross validation (CV) sets and 3 repeats.<br>\n",
    "2) It was observed that RF and GBM models have very similar performance based on their RMSE and R-squared values and confidence intervals. RF and GBM models have very similar performance based on their RMSE and R-squared values and confidence intervals.<br>\n"
   ]
  },
  {
   "cell_type": "markdown",
   "metadata": {},
   "source": [
    "<b><u>EVALUATING THE PREDICTION WITH DIFFERENT DATA-SUBSETS:\n",
    "</u></b>"
   ]
  },
  {
   "cell_type": "markdown",
   "metadata": {},
   "source": [
    "1) After concluding that GBM performed well and provided best RMSE and R^2 values this model was used to further study the performance of the model with different predictors, with a mix and match of different features and removing the irrelevant one.<br>\n",
    "2) The GBM Model without lights predictor is accurate in comparison with the original GBM model yields R^2 value of 0.58 in testing set.<br>\n"
   ]
  },
  {
   "cell_type": "markdown",
   "metadata": {},
   "source": [
    "<b><u>INSIGHTS ON RESULTS:\n",
    "</u></b>"
   ]
  },
  {
   "cell_type": "markdown",
   "metadata": {},
   "source": [
    "1) The consumption of appliances represents the highest percentage of electrical consumption with almost 75% of monthly consumption.<br>\n",
    "2) During Exploratory Data Analysis, the correlation between some of the features was high for ex: T5 and T8 and so only the most representative ones can be used for the predictions.<br>\n",
    "3) The relation between Humidity and appliances consumption was found to be very good, as the number of occupants in the room increases, the humidity in the room increases and hence energy consumption increases.<br>\n",
    "4) The data filtering is important as it diminishes some of features which have no use in predictions. According to RFE, the six parameters can significantly reduce the RMSE which are: NSM, lights, pressure, RH5, T3 and RH3.<br>\n",
    "5) When looking at the ranking for the GBM model with no light information (see Fig. 17), it can be seen that the top predictors are the NSM, Pressure, RH1, RH2, RH3, RH5, T6, RH6, RH4, RH9, T8, T4, and T2 which means that information from the kitchen, living room, laundry room, bathroom, outdoors, office, and bedrooms are the most important.<br>\n"
   ]
  },
  {
   "cell_type": "markdown",
   "metadata": {},
   "source": [
    "<b><u>LIMITATIONS:\n",
    "</u></b>"
   ]
  },
  {
   "cell_type": "markdown",
   "metadata": {},
   "source": [
    "1) As the analysis was performed on a single house, important information and features could be identified analyzing different houses which different factors such as no of occupants, no of pets, location.<br>\n",
    "2) The models would have performed better considering the factors like if the weather station was near to house, number of sensors and location of sensors.<br>\n"
   ]
  },
  {
   "cell_type": "markdown",
   "metadata": {},
   "source": [
    "<b><u>CONCLUSION:\n",
    "</u></b>"
   ]
  },
  {
   "cell_type": "markdown",
   "metadata": {},
   "source": [
    "1) The statistical data analysis has shown thought-provoking results in both the exploratory analysis and in prediction models.<br>\n",
    "2) The weather data from the nearby weather station was shown to increase the prediction accuracy in the GBM models.<br>\n",
    "3) The study has found curious relationships between variables. Future work could include considering weather data such as solar radiation and precipitation.<br>\n",
    "4) Also, the occupants activity could be tracked using different sensors which would gain information about average time spent in a specific room.<br>\n"
   ]
  }
 ],
 "metadata": {
  "kernelspec": {
   "display_name": "Python 3",
   "language": "python",
   "name": "python3"
  },
  "language_info": {
   "codemirror_mode": {
    "name": "ipython",
    "version": 3
   },
   "file_extension": ".py",
   "mimetype": "text/x-python",
   "name": "python",
   "nbconvert_exporter": "python",
   "pygments_lexer": "ipython3",
   "version": "3.6.3"
  }
 },
 "nbformat": 4,
 "nbformat_minor": 2
}
