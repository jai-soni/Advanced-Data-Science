{
 "cells": [
  {
   "cell_type": "markdown",
   "metadata": {},
   "source": [
    "<h1><B><u>FEATURE SELECTION</u></h1></B>"
   ]
  },
  {
   "cell_type": "markdown",
   "metadata": {},
   "source": [
    "<u><h2><B>IMPLEMENATION OF BORUTA FOR FEATURE SELECTION</B></h2></u>"
   ]
  },
  {
   "cell_type": "code",
   "execution_count": 330,
   "metadata": {
    "collapsed": true
   },
   "outputs": [],
   "source": [
    "import pandas as pd\n",
    "from sklearn.ensemble import RandomForestClassifier\n",
    "from boruta import BorutaPy\n",
    "from sklearn.ensemble import ExtraTreesRegressor"
   ]
  },
  {
   "cell_type": "code",
   "execution_count": 546,
   "metadata": {},
   "outputs": [],
   "source": [
    "df = pd.read_csv('/Users/saurabhkulkarni/Downloads/Appliances-energy-prediction-data-master/energydata_complete.csv')"
   ]
  },
  {
   "cell_type": "code",
   "execution_count": 547,
   "metadata": {},
   "outputs": [],
   "source": [
    "def featureengineering(energy):\n",
    "    # Converting datatype of Date column to date time\n",
    "    energy['date'] = pd.to_datetime(energy['date'])\n",
    "\n",
    "    # Removing rv2 feature\n",
    "    del energy['rv2']\n",
    "    \n",
    "    # Removing T9 feature\n",
    "    del energy['T9']\n",
    "    \n",
    "    # Removing T6 feature\n",
    "    del energy['T6']\n",
    "    \n",
    "    # Removing rv1\n",
    "    del energy['rv1']\n",
    "    \n",
    "    # To get the month for that record\n",
    "    energy['month'] = energy['date'].dt.month\n",
    "\n",
    "    # To get the specific time for that record\n",
    "    #energy['time'] = energy['date'].dt.time\n",
    "\n",
    "    #---------------------------------------------------\n",
    "    p = []\n",
    "    q = []\n",
    "    for i in energy['date']:\n",
    "        p.append(i.strftime(\"%j\"))\n",
    "        q.append(i.hour * 60 + i.minute)\n",
    "        \n",
    "    p=list(map(int, p))\n",
    "    #---------------------------------------------------\n",
    "\n",
    "    # To get the Day of the year for that record\n",
    "    energy['DOY'] = pd.DataFrame({'DOY': p})\n",
    "\n",
    "    # To get the minutes from midnight for that record\n",
    "    energy['NSM'] = pd.DataFrame({'NSM': q})\n",
    "\n",
    "    # To get the only date \n",
    "    #energy['Only_Date'] = energy['date'].dt.date\n",
    "    #energy['Only_Date'] = pd.to_datetime(energy['Only_Date'])\n",
    "    \n",
    "    # To get the weekday for that record\n",
    "    energy['Day of Week'] = energy['date'].dt.weekday\n",
    "    \n",
    "    # Now as we have DOY (Day of year) and MNM, we can remove date variable.\n",
    "    del energy['date']\n",
    "    \n",
    "    # Generating training and testing dataset\n",
    "    from sklearn.model_selection import train_test_split\n",
    "    \n",
    "    energy_train, energy_test = train_test_split(energy, test_size=0.2)\n",
    "\n",
    "    #energy.sort_index()\n",
    "    #energy_train = energy[0:int(energy.shape[0]*0.8)]\n",
    "    #energy_test = energy[int(energy.shape[0]*0.8):]\n",
    "    \n",
    "    return energy_train, energy_test"
   ]
  },
  {
   "cell_type": "code",
   "execution_count": 548,
   "metadata": {},
   "outputs": [],
   "source": [
    "df_train, df_test = featureengineering(df)"
   ]
  },
  {
   "cell_type": "code",
   "execution_count": 570,
   "metadata": {},
   "outputs": [],
   "source": [
    "df_train = df_train.sort_index()\n",
    "df_test = df_test.sort_index()"
   ]
  },
  {
   "cell_type": "code",
   "execution_count": 571,
   "metadata": {},
   "outputs": [],
   "source": [
    "training_data = df_train.drop(['Appliances'],axis=1)"
   ]
  },
  {
   "cell_type": "code",
   "execution_count": 582,
   "metadata": {
    "collapsed": true
   },
   "outputs": [],
   "source": [
    "testing_data = df_test.drop(['Appliances'],axis=1)"
   ]
  },
  {
   "cell_type": "code",
   "execution_count": 573,
   "metadata": {},
   "outputs": [
    {
     "name": "stdout",
     "output_type": "stream",
     "text": [
      "Iteration: \t1 / 100\n",
      "Confirmed: \t0\n",
      "Tentative: \t27\n",
      "Rejected: \t0\n",
      "Iteration: \t2 / 100\n",
      "Confirmed: \t0\n",
      "Tentative: \t27\n",
      "Rejected: \t0\n",
      "Iteration: \t3 / 100\n",
      "Confirmed: \t0\n",
      "Tentative: \t27\n",
      "Rejected: \t0\n",
      "Iteration: \t4 / 100\n",
      "Confirmed: \t0\n",
      "Tentative: \t27\n",
      "Rejected: \t0\n",
      "Iteration: \t5 / 100\n",
      "Confirmed: \t0\n",
      "Tentative: \t27\n",
      "Rejected: \t0\n",
      "Iteration: \t6 / 100\n",
      "Confirmed: \t0\n",
      "Tentative: \t27\n",
      "Rejected: \t0\n",
      "Iteration: \t7 / 100\n",
      "Confirmed: \t0\n",
      "Tentative: \t27\n",
      "Rejected: \t0\n",
      "Iteration: \t8 / 100\n",
      "Confirmed: \t5\n",
      "Tentative: \t10\n",
      "Rejected: \t12\n",
      "Iteration: \t9 / 100\n",
      "Confirmed: \t5\n",
      "Tentative: \t10\n",
      "Rejected: \t12\n",
      "Iteration: \t10 / 100\n",
      "Confirmed: \t5\n",
      "Tentative: \t10\n",
      "Rejected: \t12\n",
      "Iteration: \t11 / 100\n",
      "Confirmed: \t5\n",
      "Tentative: \t10\n",
      "Rejected: \t12\n",
      "Iteration: \t12 / 100\n",
      "Confirmed: \t6\n",
      "Tentative: \t9\n",
      "Rejected: \t12\n",
      "Iteration: \t13 / 100\n",
      "Confirmed: \t6\n",
      "Tentative: \t9\n",
      "Rejected: \t12\n",
      "Iteration: \t14 / 100\n",
      "Confirmed: \t6\n",
      "Tentative: \t9\n",
      "Rejected: \t12\n",
      "Iteration: \t15 / 100\n",
      "Confirmed: \t6\n",
      "Tentative: \t9\n",
      "Rejected: \t12\n",
      "Iteration: \t16 / 100\n",
      "Confirmed: \t11\n",
      "Tentative: \t3\n",
      "Rejected: \t13\n",
      "Iteration: \t17 / 100\n",
      "Confirmed: \t11\n",
      "Tentative: \t3\n",
      "Rejected: \t13\n",
      "Iteration: \t18 / 100\n",
      "Confirmed: \t11\n",
      "Tentative: \t3\n",
      "Rejected: \t13\n",
      "Iteration: \t19 / 100\n",
      "Confirmed: \t12\n",
      "Tentative: \t2\n",
      "Rejected: \t13\n",
      "Iteration: \t20 / 100\n",
      "Confirmed: \t12\n",
      "Tentative: \t2\n",
      "Rejected: \t13\n",
      "Iteration: \t21 / 100\n",
      "Confirmed: \t12\n",
      "Tentative: \t2\n",
      "Rejected: \t13\n",
      "Iteration: \t22 / 100\n",
      "Confirmed: \t12\n",
      "Tentative: \t1\n",
      "Rejected: \t14\n",
      "Iteration: \t23 / 100\n",
      "Confirmed: \t12\n",
      "Tentative: \t1\n",
      "Rejected: \t14\n",
      "Iteration: \t24 / 100\n",
      "Confirmed: \t12\n",
      "Tentative: \t1\n",
      "Rejected: \t14\n",
      "Iteration: \t25 / 100\n",
      "Confirmed: \t12\n",
      "Tentative: \t1\n",
      "Rejected: \t14\n",
      "Iteration: \t26 / 100\n",
      "Confirmed: \t12\n",
      "Tentative: \t1\n",
      "Rejected: \t14\n",
      "Iteration: \t27 / 100\n",
      "Confirmed: \t12\n",
      "Tentative: \t1\n",
      "Rejected: \t14\n",
      "Iteration: \t28 / 100\n",
      "Confirmed: \t12\n",
      "Tentative: \t1\n",
      "Rejected: \t14\n",
      "Iteration: \t29 / 100\n",
      "Confirmed: \t12\n",
      "Tentative: \t1\n",
      "Rejected: \t14\n",
      "Iteration: \t30 / 100\n",
      "Confirmed: \t12\n",
      "Tentative: \t1\n",
      "Rejected: \t14\n",
      "Iteration: \t31 / 100\n",
      "Confirmed: \t12\n",
      "Tentative: \t1\n",
      "Rejected: \t14\n",
      "Iteration: \t32 / 100\n",
      "Confirmed: \t12\n",
      "Tentative: \t1\n",
      "Rejected: \t14\n",
      "Iteration: \t33 / 100\n",
      "Confirmed: \t12\n",
      "Tentative: \t1\n",
      "Rejected: \t14\n",
      "Iteration: \t34 / 100\n",
      "Confirmed: \t12\n",
      "Tentative: \t1\n",
      "Rejected: \t14\n",
      "Iteration: \t35 / 100\n",
      "Confirmed: \t12\n",
      "Tentative: \t1\n",
      "Rejected: \t14\n",
      "Iteration: \t36 / 100\n",
      "Confirmed: \t12\n",
      "Tentative: \t1\n",
      "Rejected: \t14\n",
      "Iteration: \t37 / 100\n",
      "Confirmed: \t12\n",
      "Tentative: \t1\n",
      "Rejected: \t14\n",
      "Iteration: \t38 / 100\n",
      "Confirmed: \t12\n",
      "Tentative: \t1\n",
      "Rejected: \t14\n",
      "Iteration: \t39 / 100\n",
      "Confirmed: \t12\n",
      "Tentative: \t1\n",
      "Rejected: \t14\n",
      "Iteration: \t40 / 100\n",
      "Confirmed: \t12\n",
      "Tentative: \t1\n",
      "Rejected: \t14\n",
      "Iteration: \t41 / 100\n",
      "Confirmed: \t12\n",
      "Tentative: \t1\n",
      "Rejected: \t14\n",
      "Iteration: \t42 / 100\n",
      "Confirmed: \t12\n",
      "Tentative: \t1\n",
      "Rejected: \t14\n",
      "Iteration: \t43 / 100\n",
      "Confirmed: \t12\n",
      "Tentative: \t1\n",
      "Rejected: \t14\n",
      "Iteration: \t44 / 100\n",
      "Confirmed: \t12\n",
      "Tentative: \t1\n",
      "Rejected: \t14\n",
      "Iteration: \t45 / 100\n",
      "Confirmed: \t12\n",
      "Tentative: \t1\n",
      "Rejected: \t14\n",
      "Iteration: \t46 / 100\n",
      "Confirmed: \t12\n",
      "Tentative: \t1\n",
      "Rejected: \t14\n",
      "Iteration: \t47 / 100\n",
      "Confirmed: \t12\n",
      "Tentative: \t1\n",
      "Rejected: \t14\n",
      "Iteration: \t48 / 100\n",
      "Confirmed: \t12\n",
      "Tentative: \t1\n",
      "Rejected: \t14\n",
      "Iteration: \t49 / 100\n",
      "Confirmed: \t12\n",
      "Tentative: \t1\n",
      "Rejected: \t14\n",
      "Iteration: \t50 / 100\n",
      "Confirmed: \t12\n",
      "Tentative: \t1\n",
      "Rejected: \t14\n",
      "Iteration: \t51 / 100\n",
      "Confirmed: \t12\n",
      "Tentative: \t1\n",
      "Rejected: \t14\n",
      "Iteration: \t52 / 100\n",
      "Confirmed: \t12\n",
      "Tentative: \t1\n",
      "Rejected: \t14\n",
      "Iteration: \t53 / 100\n",
      "Confirmed: \t12\n",
      "Tentative: \t1\n",
      "Rejected: \t14\n",
      "Iteration: \t54 / 100\n",
      "Confirmed: \t12\n",
      "Tentative: \t1\n",
      "Rejected: \t14\n",
      "Iteration: \t55 / 100\n",
      "Confirmed: \t12\n",
      "Tentative: \t1\n",
      "Rejected: \t14\n",
      "Iteration: \t56 / 100\n",
      "Confirmed: \t12\n",
      "Tentative: \t1\n",
      "Rejected: \t14\n",
      "Iteration: \t57 / 100\n",
      "Confirmed: \t12\n",
      "Tentative: \t1\n",
      "Rejected: \t14\n",
      "Iteration: \t58 / 100\n",
      "Confirmed: \t12\n",
      "Tentative: \t1\n",
      "Rejected: \t14\n",
      "Iteration: \t59 / 100\n",
      "Confirmed: \t12\n",
      "Tentative: \t1\n",
      "Rejected: \t14\n",
      "Iteration: \t60 / 100\n",
      "Confirmed: \t12\n",
      "Tentative: \t1\n",
      "Rejected: \t14\n",
      "Iteration: \t61 / 100\n",
      "Confirmed: \t12\n",
      "Tentative: \t1\n",
      "Rejected: \t14\n",
      "Iteration: \t62 / 100\n",
      "Confirmed: \t12\n",
      "Tentative: \t1\n",
      "Rejected: \t14\n",
      "Iteration: \t63 / 100\n",
      "Confirmed: \t12\n",
      "Tentative: \t1\n",
      "Rejected: \t14\n",
      "Iteration: \t64 / 100\n",
      "Confirmed: \t12\n",
      "Tentative: \t1\n",
      "Rejected: \t14\n",
      "Iteration: \t65 / 100\n",
      "Confirmed: \t12\n",
      "Tentative: \t1\n",
      "Rejected: \t14\n",
      "Iteration: \t66 / 100\n",
      "Confirmed: \t12\n",
      "Tentative: \t1\n",
      "Rejected: \t14\n",
      "Iteration: \t67 / 100\n",
      "Confirmed: \t12\n",
      "Tentative: \t1\n",
      "Rejected: \t14\n",
      "Iteration: \t68 / 100\n",
      "Confirmed: \t12\n",
      "Tentative: \t1\n",
      "Rejected: \t14\n",
      "Iteration: \t69 / 100\n",
      "Confirmed: \t12\n",
      "Tentative: \t1\n",
      "Rejected: \t14\n",
      "Iteration: \t70 / 100\n",
      "Confirmed: \t12\n",
      "Tentative: \t1\n",
      "Rejected: \t14\n",
      "Iteration: \t71 / 100\n",
      "Confirmed: \t12\n",
      "Tentative: \t1\n",
      "Rejected: \t14\n",
      "Iteration: \t72 / 100\n",
      "Confirmed: \t12\n",
      "Tentative: \t1\n",
      "Rejected: \t14\n",
      "Iteration: \t73 / 100\n",
      "Confirmed: \t12\n",
      "Tentative: \t1\n",
      "Rejected: \t14\n",
      "Iteration: \t74 / 100\n",
      "Confirmed: \t12\n",
      "Tentative: \t1\n",
      "Rejected: \t14\n",
      "Iteration: \t75 / 100\n",
      "Confirmed: \t12\n",
      "Tentative: \t1\n",
      "Rejected: \t14\n",
      "Iteration: \t76 / 100\n",
      "Confirmed: \t12\n",
      "Tentative: \t1\n",
      "Rejected: \t14\n",
      "Iteration: \t77 / 100\n",
      "Confirmed: \t12\n",
      "Tentative: \t1\n",
      "Rejected: \t14\n",
      "Iteration: \t78 / 100\n",
      "Confirmed: \t12\n",
      "Tentative: \t1\n",
      "Rejected: \t14\n",
      "Iteration: \t79 / 100\n",
      "Confirmed: \t12\n",
      "Tentative: \t1\n",
      "Rejected: \t14\n",
      "Iteration: \t80 / 100\n",
      "Confirmed: \t12\n",
      "Tentative: \t1\n",
      "Rejected: \t14\n",
      "Iteration: \t81 / 100\n",
      "Confirmed: \t12\n",
      "Tentative: \t1\n",
      "Rejected: \t14\n",
      "Iteration: \t82 / 100\n",
      "Confirmed: \t12\n",
      "Tentative: \t1\n",
      "Rejected: \t14\n",
      "Iteration: \t83 / 100\n",
      "Confirmed: \t12\n",
      "Tentative: \t1\n",
      "Rejected: \t14\n",
      "Iteration: \t84 / 100\n",
      "Confirmed: \t12\n",
      "Tentative: \t1\n",
      "Rejected: \t14\n",
      "Iteration: \t85 / 100\n",
      "Confirmed: \t12\n",
      "Tentative: \t1\n",
      "Rejected: \t14\n",
      "Iteration: \t86 / 100\n",
      "Confirmed: \t12\n",
      "Tentative: \t1\n",
      "Rejected: \t14\n",
      "Iteration: \t87 / 100\n",
      "Confirmed: \t12\n",
      "Tentative: \t1\n",
      "Rejected: \t14\n",
      "Iteration: \t88 / 100\n",
      "Confirmed: \t12\n",
      "Tentative: \t1\n",
      "Rejected: \t14\n",
      "Iteration: \t89 / 100\n",
      "Confirmed: \t12\n",
      "Tentative: \t1\n",
      "Rejected: \t14\n",
      "Iteration: \t90 / 100\n",
      "Confirmed: \t12\n",
      "Tentative: \t1\n",
      "Rejected: \t14\n",
      "Iteration: \t91 / 100\n",
      "Confirmed: \t12\n",
      "Tentative: \t1\n",
      "Rejected: \t14\n",
      "Iteration: \t92 / 100\n",
      "Confirmed: \t12\n",
      "Tentative: \t1\n",
      "Rejected: \t14\n",
      "Iteration: \t93 / 100\n",
      "Confirmed: \t12\n",
      "Tentative: \t1\n",
      "Rejected: \t14\n",
      "Iteration: \t94 / 100\n",
      "Confirmed: \t12\n",
      "Tentative: \t1\n",
      "Rejected: \t14\n",
      "Iteration: \t95 / 100\n",
      "Confirmed: \t12\n",
      "Tentative: \t1\n",
      "Rejected: \t14\n",
      "Iteration: \t96 / 100\n",
      "Confirmed: \t12\n",
      "Tentative: \t1\n",
      "Rejected: \t14\n",
      "Iteration: \t97 / 100\n",
      "Confirmed: \t12\n",
      "Tentative: \t1\n",
      "Rejected: \t14\n",
      "Iteration: \t98 / 100\n",
      "Confirmed: \t12\n",
      "Tentative: \t1\n",
      "Rejected: \t14\n",
      "Iteration: \t99 / 100\n",
      "Confirmed: \t12\n",
      "Tentative: \t1\n",
      "Rejected: \t14\n",
      "\n",
      "\n",
      "BorutaPy finished running.\n",
      "\n",
      "Iteration: \t100 / 100\n",
      "Confirmed: \t12\n",
      "Tentative: \t0\n",
      "Rejected: \t14\n"
     ]
    }
   ],
   "source": [
    "# load X and y\n",
    "# NOTE BorutaPy accepts numpy arrays only, hence the .values attribute\n",
    "X = training_data.values\n",
    "y = df_train['Appliances'].values\n",
    "\n",
    "# define random forest classifier, with utilising all cores and\n",
    "# sampling in proportion to y labels\n",
    "rf = RandomForestRegressor(n_estimators=100, max_depth=5)\n",
    "\n",
    "# define Boruta feature selection method\n",
    "feat_selector = BorutaPy(rf, n_estimators='auto', verbose=2)\n",
    "\n",
    "# find all relevant features\n",
    "feat_selector.fit(X, y)\n",
    "\n",
    "# check selected features\n",
    "feat_selector.support_\n",
    "\n",
    "# check ranking of features\n",
    "feat_selector.ranking_\n",
    "\n",
    "# call transform() on X to filter it down to selected features\n",
    "X_filtered = feat_selector.transform(X)"
   ]
  },
  {
   "cell_type": "code",
   "execution_count": 583,
   "metadata": {},
   "outputs": [
    {
     "data": {
      "text/plain": [
       "array([ True, False, False, False,  True,  True,  True, False,  True,\n",
       "       False,  True, False, False,  True,  True, False, False, False,\n",
       "        True,  True, False, False, False, False,  True,  True, False], dtype=bool)"
      ]
     },
     "execution_count": 583,
     "metadata": {},
     "output_type": "execute_result"
    }
   ],
   "source": [
    "feat_selector.support_"
   ]
  },
  {
   "cell_type": "code",
   "execution_count": 584,
   "metadata": {},
   "outputs": [
    {
     "data": {
      "text/plain": [
       "array([ 1, 12,  9,  7,  1,  1,  1, 13,  1,  4,  1,  3,  4,  1,  1, 11,  9,\n",
       "        6,  1,  1,  9, 15,  2, 16,  1,  1, 14])"
      ]
     },
     "execution_count": 584,
     "metadata": {},
     "output_type": "execute_result"
    }
   ],
   "source": [
    "feat_selector.ranking_"
   ]
  },
  {
   "cell_type": "code",
   "execution_count": 586,
   "metadata": {},
   "outputs": [
    {
     "name": "stdout",
     "output_type": "stream",
     "text": [
      "lights : True, rank: 1\n",
      "T1 : False, rank: 12\n",
      "RH_1 : False, rank: 9\n",
      "T2 : False, rank: 7\n",
      "RH_2 : True, rank: 1\n",
      "T3 : True, rank: 1\n",
      "RH_3 : True, rank: 1\n",
      "T4 : False, rank: 13\n",
      "RH_4 : True, rank: 1\n",
      "T5 : False, rank: 4\n",
      "RH_5 : True, rank: 1\n",
      "RH_6 : False, rank: 3\n",
      "T7 : False, rank: 4\n",
      "RH_7 : True, rank: 1\n",
      "T8 : True, rank: 1\n",
      "RH_8 : False, rank: 11\n",
      "RH_9 : False, rank: 9\n",
      "T_out : False, rank: 6\n",
      "Press_mm_hg : True, rank: 1\n",
      "RH_out : True, rank: 1\n",
      "Windspeed : False, rank: 9\n",
      "Visibility : False, rank: 15\n",
      "Tdewpoint : False, rank: 2\n",
      "month : False, rank: 16\n",
      "DOY : True, rank: 1\n",
      "NSM : True, rank: 1\n",
      "Day of Week : False, rank: 14\n"
     ]
    }
   ],
   "source": [
    "sel_columns = []\n",
    "for i in range(len(training_data.columns)):\n",
    "    print(str(training_data.columns[i])+\" : \"+str(feat_selector.support_[i])+\", rank: \"+str(feat_selector.ranking_[i]))\n",
    "    if feat_selector.ranking_[i] == 1:\n",
    "        sel_columns.append(str(training_data.columns[i]))"
   ]
  },
  {
   "cell_type": "code",
   "execution_count": 587,
   "metadata": {},
   "outputs": [
    {
     "name": "stdout",
     "output_type": "stream",
     "text": [
      "R2_test: 0.541504207278\n",
      "MAE_test: 30.4276665822\n",
      "MSE_test: 4142.00253357\n",
      "RMSE_test: 64.3583913221\n",
      "R2_train: 0.999999848588\n",
      "MAE_train: 0.00114010640993\n",
      "MSE_train: 0.0016468203699\n",
      "RMSE_train: 0.0405810346086\n"
     ]
    }
   ],
   "source": [
    "from sklearn import svm\n",
    "import matplotlib.pyplot as plt\n",
    "from sklearn.neighbors import KNeighborsRegressor\n",
    "from sklearn.linear_model import LinearRegression, LogisticRegression\n",
    "from sklearn.svm import SVR\n",
    "from sklearn.metrics import r2_score\n",
    "from sklearn.metrics import mean_squared_error\n",
    "from sklearn.metrics import mean_absolute_error\n",
    "from sklearn.neural_network import MLPRegressor\n",
    "from sklearn.cross_validation import train_test_split\n",
    "from sklearn.ensemble import RandomForestRegressor,GradientBoostingRegressor\n",
    "\n",
    "import seaborn as sns\n",
    "import numpy as np\n",
    "\n",
    "#Xtrn, Xtest, Ytrn, Ytest = train_test_split(training_data[sel_columns], df_train['Appliances'],test_size=0.2,random_state=42)\n",
    "\n",
    "Xtrn = training_data[sel_columns]\n",
    "Ytrn = df_train['Appliances']\n",
    "\n",
    "Xtest = testing_data[sel_columns]\n",
    "Ytest = df_test['Appliances']\n",
    "\n",
    "# model = RandomForestRegressor(n_estimators=150, max_features='sqrt', n_jobs=-1)  # случайный лес\n",
    "model = ExtraTreesRegressor()\n",
    "\n",
    "\n",
    "tmp = {}\n",
    "\n",
    "\n",
    "# get model name\n",
    "m = str(model)\n",
    "\n",
    "# fit model on training dataset\n",
    "model.fit(Xtrn, Ytrn)\n",
    "# predict consumption\n",
    "predictions = model.predict(Xtest)\n",
    "#Evaluation for Testing set\n",
    "#R2 score\n",
    "R2_test_b = r2_score(Ytest,predictions)\n",
    "print(\"R2_test:\",R2_test_b)\n",
    "#Mean Absolute Error(MAE)\n",
    "MAE_test_b= mean_absolute_error(Ytest,predictions)\n",
    "print('MAE_test:',MAE_test_b)\n",
    "#Mean Squared Error(MSE)\n",
    "MSE_test_b= mean_squared_error(Ytest,predictions)\n",
    "print('MSE_test:',MSE_test_b)\n",
    "#Root Mean Squared Error (RMSE)\n",
    "RMSE_test_b= np.sqrt(mean_squared_error(Ytest,predictions))\n",
    "print('RMSE_test:',RMSE_test_b)\n",
    "#Evaluation for Training test\n",
    "predictions_trn = model.predict(Xtrn)\n",
    "#R2_Score\n",
    "R2_train_b = r2_score(Ytrn,predictions_trn)\n",
    "print('R2_train:',R2_train_b)\n",
    "#Mean Absolute Error(MAE)\n",
    "MAE_train_b= mean_absolute_error(Ytrn,predictions_trn)\n",
    "print('MAE_train:',MAE_train_b)\n",
    "#Mean Squared Error(MSE)\n",
    "MSE_train_b= mean_squared_error(Ytrn,predictions_trn)\n",
    "print('MSE_train:',MSE_train_b)\n",
    "#Root Mean Squared Error (RMSE)\n",
    "RMSE_train_b = np.sqrt(mean_squared_error(Ytrn,predictions_trn))\n",
    "print('RMSE_train:',RMSE_train_b)\n",
    "\n",
    "\n",
    "\n",
    "\n",
    "\n"
   ]
  },
  {
   "cell_type": "code",
   "execution_count": 588,
   "metadata": {},
   "outputs": [],
   "source": [
    "from sklearn.metrics import explained_variance_score"
   ]
  },
  {
   "cell_type": "code",
   "execution_count": 589,
   "metadata": {},
   "outputs": [
    {
     "data": {
      "text/plain": [
       "0.5425963867407616"
      ]
     },
     "execution_count": 589,
     "metadata": {},
     "output_type": "execute_result"
    }
   ],
   "source": [
    "explained_variance_score(Ytest, predictions)"
   ]
  },
  {
   "cell_type": "markdown",
   "metadata": {},
   "source": [
    "<b>1)We can see that the initial dataset contained columns namely 'lights', 'T1', 'RH_1', 'T2', 'RH_2', 'T3', 'RH_3', 'T4', 'RH_4', 'T5','RH_5', 'RH_6', 'T7', 'RH_7', 'T8', 'RH_8', 'RH_9', 'T_out','Press_mm_hg', 'RH_out', 'Windspeed', 'Visibility', 'Tdewpoint','month', 'DOY', 'NSM', 'Day of Week'<br><br>2)After using boruta package the columns which boruta identified as relevant ones are'lights','RH_2','T3','RH_3','RH_4','RH_5','RH_7','T8','Press_mm_hg','RH_out','DOY','NSM'. Boruta only selects those colunms whose rank is 1 and recommends to drop other ones.</b>"
   ]
  },
  {
   "cell_type": "markdown",
   "metadata": {},
   "source": [
    "<u><h2><b>IMPLEMENTATION OF FORWARD AND BACKWARD SELECTION</b></h2><u>"
   ]
  },
  {
   "cell_type": "code",
   "execution_count": 590,
   "metadata": {},
   "outputs": [
    {
     "name": "stdout",
     "output_type": "stream",
     "text": [
      "Add  NSM                            with p-value 3.23065e-166\n",
      "Add  lights                         with p-value 5.6708e-85\n",
      "Add  RH_out                         with p-value 9.75729e-45\n",
      "Add  RH_1                           with p-value 1.71079e-41\n",
      "Add  RH_7                           with p-value 8.39661e-66\n",
      "Add  RH_2                           with p-value 9.87499e-49\n",
      "Add  RH_8                           with p-value 6.2177e-13\n",
      "Drop RH_out                         with p-value 0.623901\n",
      "Add  Windspeed                      with p-value 4.38084e-11\n",
      "Add  T3                             with p-value 2.61048e-09\n",
      "Add  T2                             with p-value 8.59357e-90\n",
      "Add  month                          with p-value 3.33014e-26\n",
      "Add  T4                             with p-value 2.2809e-12\n",
      "Add  Tdewpoint                      with p-value 5.3945e-05\n",
      "Add  RH_3                           with p-value 0.00025239\n",
      "Add  T8                             with p-value 7.20872e-05\n",
      "Add  T1                             with p-value 3.6947e-05\n",
      "Add  T7                             with p-value 0.00683078\n",
      "resulting features:\n",
      "['NSM', 'lights', 'RH_1', 'RH_7', 'RH_2', 'RH_8', 'Windspeed', 'T3', 'T2', 'month', 'T4', 'Tdewpoint', 'RH_3', 'T8', 'T1', 'T7']\n"
     ]
    }
   ],
   "source": [
    "import pandas as pd\n",
    "import numpy as np\n",
    "import statsmodels.api as sm\n",
    "\n",
    "X = training_data\n",
    "y = df_train['Appliances']\n",
    "\n",
    "\n",
    "def stepwise_selection(X, y, \n",
    "                       initial_list=[], \n",
    "                       threshold_in=0.01, \n",
    "                       threshold_out = 0.05, \n",
    "                       verbose=True):\n",
    "   \n",
    "    included = list(initial_list)\n",
    "    while True:\n",
    "        changed=False\n",
    "        # forward step\n",
    "        excluded = list(set(X.columns)-set(included))\n",
    "        new_pval = pd.Series(index=excluded)\n",
    "        for new_column in excluded:\n",
    "            model = sm.OLS(y, sm.add_constant(pd.DataFrame(X[included+[new_column]]))).fit()\n",
    "            new_pval[new_column] = model.pvalues[new_column]\n",
    "        best_pval = new_pval.min()\n",
    "        if best_pval < threshold_in:\n",
    "            best_feature = new_pval.argmin()\n",
    "            included.append(best_feature)\n",
    "            changed=True\n",
    "            if verbose:\n",
    "                print('Add  {:30} with p-value {:.6}'.format(best_feature, best_pval))\n",
    "\n",
    "        # backward step\n",
    "        model = sm.OLS(y, sm.add_constant(pd.DataFrame(X[included]))).fit()\n",
    "        # use all coefs except intercept\n",
    "        pvalues = model.pvalues.iloc[1:]\n",
    "        worst_pval = pvalues.max() # null if pvalues is empty\n",
    "        if worst_pval > threshold_out:\n",
    "            changed=True\n",
    "            worst_feature = pvalues.argmax()\n",
    "            included.remove(worst_feature)\n",
    "            if verbose:\n",
    "                print('Drop {:30} with p-value {:.6}'.format(worst_feature, worst_pval))\n",
    "        if not changed:\n",
    "            break\n",
    "    return included,pvalues\n",
    "\n",
    "result,pvalues = stepwise_selection(X, y)\n",
    "\n",
    "print('resulting features:')\n",
    "print(result)"
   ]
  },
  {
   "cell_type": "markdown",
   "metadata": {},
   "source": [
    "<u><b><i>STORING THE RELEVANT FEATURES, WHICH CAN BE USED LATER ON</i></b></u>"
   ]
  },
  {
   "cell_type": "code",
   "execution_count": 591,
   "metadata": {},
   "outputs": [],
   "source": [
    "pvalues= pd.DataFrame(pvalues).reset_index().rename(columns={'index':'feature',0:'value'})"
   ]
  },
  {
   "cell_type": "markdown",
   "metadata": {},
   "source": [
    "<u><i><b>FEATURE IMPORTANCE BASED ON P-VALUE</b></i></u>"
   ]
  },
  {
   "cell_type": "code",
   "execution_count": 592,
   "metadata": {},
   "outputs": [
    {
     "data": {
      "image/png": "[encoded data removed]",
      "text/plain": [
       "<matplotlib.figure.Figure at 0x1504d8e48>"
      ]
     },
     "metadata": {},
     "output_type": "display_data"
    }
   ],
   "source": [
    "y_pos = np.arange(len(pvalues))\n",
    "performance = pvalues['value']\n",
    "\n",
    "plt.figure(figsize=(20,7))\n",
    "plt.bar(y_pos, performance, align='center', alpha=0.5)\n",
    "plt.xticks(y_pos, pvalues['feature'])\n",
    "plt.ylabel('Value')\n",
    "plt.title('Feature Importance based on P-values')\n",
    "plt.show()"
   ]
  },
  {
   "cell_type": "code",
   "execution_count": 593,
   "metadata": {},
   "outputs": [],
   "source": [
    "Fo_ba_features = result"
   ]
  },
  {
   "cell_type": "code",
   "execution_count": 594,
   "metadata": {},
   "outputs": [
    {
     "name": "stdout",
     "output_type": "stream",
     "text": [
      "R2_test: 0.56511887411\n",
      "MAE_test: 28.9969597162\n",
      "MSE_test: 3928.67012921\n",
      "RMSE_test: 62.6791044066\n",
      "R2_train: 0.999999161408\n",
      "MAE_train: 0.00152014187991\n",
      "MSE_train: 0.00912085127945\n",
      "RMSE_train: 0.0955031480081\n"
     ]
    }
   ],
   "source": [
    "\n",
    "#prepare dataset  \n",
    "#....   \n",
    "#spilt dataset\n",
    "#Xtrn, Xtest, Ytrn, Ytest = train_test_split(df[Req_Columns[0:i]], df['Appliances'],test_size=0.2,random_state=42)\n",
    "\n",
    "\n",
    "#Xtrn, Xtest, Ytrn, Ytest = train_test_split(training_data[Fo_ba_features], df_train['Appliances'],test_size=0.2,random_state=42)\n",
    "\n",
    "Xtrn = training_data[Fo_ba_features]\n",
    "Ytrn = df_train['Appliances']\n",
    "\n",
    "Xtest = testing_data[Fo_ba_features]\n",
    "Ytest = df_test['Appliances']\n",
    "\n",
    "# model = RandomForestRegressor(n_estimators=150, max_features='sqrt', n_jobs=-1)  # случайный лес\n",
    "model = ExtraTreesRegressor()\n",
    "\n",
    "# get model name\n",
    "m = str(model)\n",
    "\n",
    "# fit model on training dataset\n",
    "model.fit(Xtrn, Ytrn)\n",
    "# predict consumption\n",
    "predictions = model.predict(Xtest)\n",
    "#Evaluation for Testing set\n",
    "#R2 score\n",
    "R2_test_fb = r2_score(Ytest,predictions)\n",
    "print(\"R2_test:\",R2_test_fb)\n",
    "#Mean Absolute Error(MAE)\n",
    "MAE_test_fb= mean_absolute_error(Ytest,predictions)\n",
    "print('MAE_test:',MAE_test_fb)\n",
    "#Mean Squared Error(MSE)\n",
    "MSE_test_fb= mean_squared_error(Ytest,predictions)\n",
    "print('MSE_test:',MSE_test_fb)\n",
    "#Root Mean Squared Error (RMSE)\n",
    "RMSE_test_fb= np.sqrt(mean_squared_error(Ytest,predictions))\n",
    "print('RMSE_test:',RMSE_test_fb)\n",
    "#Evaluation for Training test\n",
    "predictions_trn = model.predict(Xtrn)\n",
    "#R2_Score\n",
    "R2_train_fb = r2_score(Ytrn,predictions_trn)\n",
    "print('R2_train:',R2_train_fb)\n",
    "#Mean Absolute Error(MAE)\n",
    "MAE_train_fb= mean_absolute_error(Ytrn,predictions_trn)\n",
    "print('MAE_train:',MAE_train_fb)\n",
    "#Mean Squared Error(MSE)\n",
    "MSE_train_fb= mean_squared_error(Ytrn,predictions_trn)\n",
    "print('MSE_train:',MSE_train_fb)\n",
    "#Root Mean Squared Error (RMSE)\n",
    "RMSE_train_fb = np.sqrt(mean_squared_error(Ytrn,predictions_trn))\n",
    "print('RMSE_train:',RMSE_train_fb)"
   ]
  },
  {
   "cell_type": "markdown",
   "metadata": {},
   "source": [
    "<b>The forward and backward selection process evaluates the relevant features by calculating P-VALUES. In our case it has recommended to add features which are as follows: 'NSM', 'lights', 'RH_1', 'RH_7', 'RH_2', 'RH_8', 'Windspeed', 'T3', 'T2', 'month', 'T4', 'Tdewpoint', 'RH_3', 'T8', 'T1', 'T7'</b>"
   ]
  },
  {
   "cell_type": "markdown",
   "metadata": {},
   "source": [
    "<u><h2><b>IMPLEMENTATION OF TSFRESH</b></h2></u>"
   ]
  },
  {
   "cell_type": "code",
   "execution_count": 617,
   "metadata": {
    "collapsed": true
   },
   "outputs": [],
   "source": [
    "import numpy as np\n",
    "import pandas as pd\n",
    "import matplotlib.pylab as plt\n",
    "import seaborn as sns\n",
    "\n",
    "from tsfresh import extract_features\n",
    "from tsfresh.utilities.dataframe_functions import make_forecasting_frame\n",
    "from sklearn.ensemble import AdaBoostRegressor\n",
    "from tsfresh.utilities.dataframe_functions import impute\n",
    "\n",
    "from sklearn import svm\n",
    "from sklearn.neighbors import KNeighborsRegressor\n",
    "from sklearn.linear_model import LinearRegression, LogisticRegression\n",
    "from sklearn.svm import SVR\n",
    "from sklearn.metrics import r2_score\n",
    "from sklearn.metrics import mean_squared_error\n",
    "from sklearn.metrics import mean_absolute_error\n",
    "from sklearn.neural_network import MLPRegressor\n",
    "from sklearn.cross_validation import train_test_split\n",
    "from sklearn.ensemble import RandomForestRegressor,GradientBoostingRegressor\n",
    "\n",
    "import seaborn as sns\n",
    "import numpy as np\n",
    "import datetime as dt\n",
    "import warnings\n",
    "warnings.filterwarnings('ignore')\n",
    "\n"
   ]
  },
  {
   "cell_type": "code",
   "execution_count": 596,
   "metadata": {},
   "outputs": [
    {
     "name": "stderr",
     "output_type": "stream",
     "text": [
      "Feature Extraction: 100%|██████████| 10/10 [00:23<00:00,  2.35s/it]\n",
      "WARNING:tsfresh.utilities.dataframe_functions:The columns ['lights__fft_coefficient__coeff_62__attr_\"abs\"'\n",
      " 'lights__fft_coefficient__coeff_62__attr_\"angle\"'\n",
      " 'lights__fft_coefficient__coeff_62__attr_\"imag\"'\n",
      " 'lights__fft_coefficient__coeff_62__attr_\"real\"'\n",
      " 'lights__fft_coefficient__coeff_63__attr_\"abs\"'\n",
      " 'lights__fft_coefficient__coeff_63__attr_\"angle\"'\n",
      " 'lights__fft_coefficient__coeff_63__attr_\"imag\"'\n",
      " 'lights__fft_coefficient__coeff_63__attr_\"real\"'\n",
      " 'lights__fft_coefficient__coeff_64__attr_\"abs\"'\n",
      " 'lights__fft_coefficient__coeff_64__attr_\"angle\"'\n",
      " 'lights__fft_coefficient__coeff_64__attr_\"imag\"'\n",
      " 'lights__fft_coefficient__coeff_64__attr_\"real\"'\n",
      " 'lights__fft_coefficient__coeff_65__attr_\"abs\"'\n",
      " 'lights__fft_coefficient__coeff_65__attr_\"angle\"'\n",
      " 'lights__fft_coefficient__coeff_65__attr_\"imag\"'\n",
      " 'lights__fft_coefficient__coeff_65__attr_\"real\"'\n",
      " 'lights__fft_coefficient__coeff_66__attr_\"abs\"'\n",
      " 'lights__fft_coefficient__coeff_66__attr_\"angle\"'\n",
      " 'lights__fft_coefficient__coeff_66__attr_\"imag\"'\n",
      " 'lights__fft_coefficient__coeff_66__attr_\"real\"'\n",
      " 'lights__fft_coefficient__coeff_67__attr_\"abs\"'\n",
      " 'lights__fft_coefficient__coeff_67__attr_\"angle\"'\n",
      " 'lights__fft_coefficient__coeff_67__attr_\"imag\"'\n",
      " 'lights__fft_coefficient__coeff_67__attr_\"real\"'\n",
      " 'lights__fft_coefficient__coeff_68__attr_\"abs\"'\n",
      " 'lights__fft_coefficient__coeff_68__attr_\"angle\"'\n",
      " 'lights__fft_coefficient__coeff_68__attr_\"imag\"'\n",
      " 'lights__fft_coefficient__coeff_68__attr_\"real\"'\n",
      " 'lights__fft_coefficient__coeff_69__attr_\"abs\"'\n",
      " 'lights__fft_coefficient__coeff_69__attr_\"angle\"'\n",
      " 'lights__fft_coefficient__coeff_69__attr_\"imag\"'\n",
      " 'lights__fft_coefficient__coeff_69__attr_\"real\"'\n",
      " 'lights__fft_coefficient__coeff_70__attr_\"abs\"'\n",
      " 'lights__fft_coefficient__coeff_70__attr_\"angle\"'\n",
      " 'lights__fft_coefficient__coeff_70__attr_\"imag\"'\n",
      " 'lights__fft_coefficient__coeff_70__attr_\"real\"'\n",
      " 'lights__fft_coefficient__coeff_71__attr_\"abs\"'\n",
      " 'lights__fft_coefficient__coeff_71__attr_\"angle\"'\n",
      " 'lights__fft_coefficient__coeff_71__attr_\"imag\"'\n",
      " 'lights__fft_coefficient__coeff_71__attr_\"real\"'\n",
      " 'lights__fft_coefficient__coeff_72__attr_\"abs\"'\n",
      " 'lights__fft_coefficient__coeff_72__attr_\"angle\"'\n",
      " 'lights__fft_coefficient__coeff_72__attr_\"imag\"'\n",
      " 'lights__fft_coefficient__coeff_72__attr_\"real\"'\n",
      " 'lights__fft_coefficient__coeff_73__attr_\"abs\"'\n",
      " 'lights__fft_coefficient__coeff_73__attr_\"angle\"'\n",
      " 'lights__fft_coefficient__coeff_73__attr_\"imag\"'\n",
      " 'lights__fft_coefficient__coeff_73__attr_\"real\"'\n",
      " 'lights__fft_coefficient__coeff_74__attr_\"abs\"'\n",
      " 'lights__fft_coefficient__coeff_74__attr_\"angle\"'\n",
      " 'lights__fft_coefficient__coeff_74__attr_\"imag\"'\n",
      " 'lights__fft_coefficient__coeff_74__attr_\"real\"'\n",
      " 'lights__fft_coefficient__coeff_75__attr_\"abs\"'\n",
      " 'lights__fft_coefficient__coeff_75__attr_\"angle\"'\n",
      " 'lights__fft_coefficient__coeff_75__attr_\"imag\"'\n",
      " 'lights__fft_coefficient__coeff_75__attr_\"real\"'\n",
      " 'lights__fft_coefficient__coeff_76__attr_\"abs\"'\n",
      " 'lights__fft_coefficient__coeff_76__attr_\"angle\"'\n",
      " 'lights__fft_coefficient__coeff_76__attr_\"imag\"'\n",
      " 'lights__fft_coefficient__coeff_76__attr_\"real\"'\n",
      " 'lights__fft_coefficient__coeff_77__attr_\"abs\"'\n",
      " 'lights__fft_coefficient__coeff_77__attr_\"angle\"'\n",
      " 'lights__fft_coefficient__coeff_77__attr_\"imag\"'\n",
      " 'lights__fft_coefficient__coeff_77__attr_\"real\"'\n",
      " 'lights__fft_coefficient__coeff_78__attr_\"abs\"'\n",
      " 'lights__fft_coefficient__coeff_78__attr_\"angle\"'\n",
      " 'lights__fft_coefficient__coeff_78__attr_\"imag\"'\n",
      " 'lights__fft_coefficient__coeff_78__attr_\"real\"'\n",
      " 'lights__fft_coefficient__coeff_79__attr_\"abs\"'\n",
      " 'lights__fft_coefficient__coeff_79__attr_\"angle\"'\n",
      " 'lights__fft_coefficient__coeff_79__attr_\"imag\"'\n",
      " 'lights__fft_coefficient__coeff_79__attr_\"real\"'\n",
      " 'lights__fft_coefficient__coeff_80__attr_\"abs\"'\n",
      " 'lights__fft_coefficient__coeff_80__attr_\"angle\"'\n",
      " 'lights__fft_coefficient__coeff_80__attr_\"imag\"'\n",
      " 'lights__fft_coefficient__coeff_80__attr_\"real\"'\n",
      " 'lights__fft_coefficient__coeff_81__attr_\"abs\"'\n",
      " 'lights__fft_coefficient__coeff_81__attr_\"angle\"'\n",
      " 'lights__fft_coefficient__coeff_81__attr_\"imag\"'\n",
      " 'lights__fft_coefficient__coeff_81__attr_\"real\"'\n",
      " 'lights__fft_coefficient__coeff_82__attr_\"abs\"'\n",
      " 'lights__fft_coefficient__coeff_82__attr_\"angle\"'\n",
      " 'lights__fft_coefficient__coeff_82__attr_\"imag\"'\n",
      " 'lights__fft_coefficient__coeff_82__attr_\"real\"'\n",
      " 'lights__fft_coefficient__coeff_83__attr_\"abs\"'\n",
      " 'lights__fft_coefficient__coeff_83__attr_\"angle\"'\n",
      " 'lights__fft_coefficient__coeff_83__attr_\"imag\"'\n",
      " 'lights__fft_coefficient__coeff_83__attr_\"real\"'\n",
      " 'lights__fft_coefficient__coeff_84__attr_\"abs\"'\n",
      " 'lights__fft_coefficient__coeff_84__attr_\"angle\"'\n",
      " 'lights__fft_coefficient__coeff_84__attr_\"imag\"'\n",
      " 'lights__fft_coefficient__coeff_84__attr_\"real\"'\n",
      " 'lights__fft_coefficient__coeff_85__attr_\"abs\"'\n",
      " 'lights__fft_coefficient__coeff_85__attr_\"angle\"'\n",
      " 'lights__fft_coefficient__coeff_85__attr_\"imag\"'\n",
      " 'lights__fft_coefficient__coeff_85__attr_\"real\"'\n",
      " 'lights__fft_coefficient__coeff_86__attr_\"abs\"'\n",
      " 'lights__fft_coefficient__coeff_86__attr_\"angle\"'\n",
      " 'lights__fft_coefficient__coeff_86__attr_\"imag\"'\n",
      " 'lights__fft_coefficient__coeff_86__attr_\"real\"'\n",
      " 'lights__fft_coefficient__coeff_87__attr_\"abs\"'\n",
      " 'lights__fft_coefficient__coeff_87__attr_\"angle\"'\n",
      " 'lights__fft_coefficient__coeff_87__attr_\"imag\"'\n",
      " 'lights__fft_coefficient__coeff_87__attr_\"real\"'\n",
      " 'lights__fft_coefficient__coeff_88__attr_\"abs\"'\n",
      " 'lights__fft_coefficient__coeff_88__attr_\"angle\"'\n",
      " 'lights__fft_coefficient__coeff_88__attr_\"imag\"'\n",
      " 'lights__fft_coefficient__coeff_88__attr_\"real\"'\n",
      " 'lights__fft_coefficient__coeff_89__attr_\"abs\"'\n",
      " 'lights__fft_coefficient__coeff_89__attr_\"angle\"'\n",
      " 'lights__fft_coefficient__coeff_89__attr_\"imag\"'\n",
      " 'lights__fft_coefficient__coeff_89__attr_\"real\"'\n",
      " 'lights__fft_coefficient__coeff_90__attr_\"abs\"'\n",
      " 'lights__fft_coefficient__coeff_90__attr_\"angle\"'\n",
      " 'lights__fft_coefficient__coeff_90__attr_\"imag\"'\n",
      " 'lights__fft_coefficient__coeff_90__attr_\"real\"'\n",
      " 'lights__fft_coefficient__coeff_91__attr_\"abs\"'\n",
      " 'lights__fft_coefficient__coeff_91__attr_\"angle\"'\n",
      " 'lights__fft_coefficient__coeff_91__attr_\"imag\"'\n",
      " 'lights__fft_coefficient__coeff_91__attr_\"real\"'\n",
      " 'lights__fft_coefficient__coeff_92__attr_\"abs\"'\n",
      " 'lights__fft_coefficient__coeff_92__attr_\"angle\"'\n",
      " 'lights__fft_coefficient__coeff_92__attr_\"imag\"'\n",
      " 'lights__fft_coefficient__coeff_92__attr_\"real\"'\n",
      " 'lights__fft_coefficient__coeff_93__attr_\"abs\"'\n",
      " 'lights__fft_coefficient__coeff_93__attr_\"angle\"'\n",
      " 'lights__fft_coefficient__coeff_93__attr_\"imag\"'\n",
      " 'lights__fft_coefficient__coeff_93__attr_\"real\"'\n",
      " 'lights__fft_coefficient__coeff_94__attr_\"abs\"'\n",
      " 'lights__fft_coefficient__coeff_94__attr_\"angle\"'\n",
      " 'lights__fft_coefficient__coeff_94__attr_\"imag\"'\n",
      " 'lights__fft_coefficient__coeff_94__attr_\"real\"'\n",
      " 'lights__fft_coefficient__coeff_95__attr_\"abs\"'\n",
      " 'lights__fft_coefficient__coeff_95__attr_\"angle\"'\n",
      " 'lights__fft_coefficient__coeff_95__attr_\"imag\"'\n",
      " 'lights__fft_coefficient__coeff_95__attr_\"real\"'\n",
      " 'lights__fft_coefficient__coeff_96__attr_\"abs\"'\n",
      " 'lights__fft_coefficient__coeff_96__attr_\"angle\"'\n",
      " 'lights__fft_coefficient__coeff_96__attr_\"imag\"'\n",
      " 'lights__fft_coefficient__coeff_96__attr_\"real\"'\n",
      " 'lights__fft_coefficient__coeff_97__attr_\"abs\"'\n",
      " 'lights__fft_coefficient__coeff_97__attr_\"angle\"'\n",
      " 'lights__fft_coefficient__coeff_97__attr_\"imag\"'\n",
      " 'lights__fft_coefficient__coeff_97__attr_\"real\"'\n",
      " 'lights__fft_coefficient__coeff_98__attr_\"abs\"'\n",
      " 'lights__fft_coefficient__coeff_98__attr_\"angle\"'\n",
      " 'lights__fft_coefficient__coeff_98__attr_\"imag\"'\n",
      " 'lights__fft_coefficient__coeff_98__attr_\"real\"'\n",
      " 'lights__fft_coefficient__coeff_99__attr_\"abs\"'\n",
      " 'lights__fft_coefficient__coeff_99__attr_\"angle\"'\n",
      " 'lights__fft_coefficient__coeff_99__attr_\"imag\"'\n",
      " 'lights__fft_coefficient__coeff_99__attr_\"real\"'\n",
      " 'lights__friedrich_coefficients__m_3__r_30__coeff_0'\n",
      " 'lights__friedrich_coefficients__m_3__r_30__coeff_1'\n",
      " 'lights__friedrich_coefficients__m_3__r_30__coeff_2'\n",
      " 'lights__friedrich_coefficients__m_3__r_30__coeff_3'\n",
      " 'lights__max_langevin_fixed_point__m_3__r_30'] did not have any finite values. Filling with zeros.\n"
     ]
    }
   ],
   "source": [
    "tsfresh_extracted = extract_features(training_data, column_id='NSM', column_sort=\"T1\", column_value=\"lights\", impute_function=impute, \n",
    "                     show_warnings=False)"
   ]
  },
  {
   "cell_type": "code",
   "execution_count": 614,
   "metadata": {
    "collapsed": true
   },
   "outputs": [],
   "source": [
    "temp_set = pd.read_csv('/Users/saurabhkulkarni/Downloads/Appliances-energy-prediction-data-master/energydata_complete.csv')"
   ]
  },
  {
   "cell_type": "code",
   "execution_count": 620,
   "metadata": {},
   "outputs": [],
   "source": [
    "temp_set['date'] = pd.to_datetime(temp_set['date'])\n",
    "temp_set['time'] = temp_set['date'].dt.time"
   ]
  },
  {
   "cell_type": "code",
   "execution_count": 625,
   "metadata": {},
   "outputs": [],
   "source": [
    "temp_set = pd.DataFrame(temp_set[['time','Appliances']].groupby(['time'])['Appliances'].mean()).reset_index()"
   ]
  },
  {
   "cell_type": "code",
   "execution_count": 628,
   "metadata": {},
   "outputs": [],
   "source": [
    "tsfresh_extracted = tsfresh_extracted.sort_index()"
   ]
  },
  {
   "cell_type": "code",
   "execution_count": 636,
   "metadata": {},
   "outputs": [],
   "source": [
    "temp_set = temp_set.set_index(['time'])"
   ]
  },
  {
   "cell_type": "code",
   "execution_count": 638,
   "metadata": {},
   "outputs": [
    {
     "name": "stdout",
     "output_type": "stream",
     "text": [
      "R2_test: 0.787207136716\n",
      "MAE_test: 14.9866070614\n",
      "MSE_test: 392.614890038\n",
      "RMSE_test: 19.814512107\n",
      "R2_train: 1.0\n",
      "MAE_train: 9.02080342791e-15\n",
      "MSE_train: 1.99314282279e-28\n",
      "RMSE_train: 1.4117871025e-14\n"
     ]
    }
   ],
   "source": [
    "#Xtrn, Xtest, Ytrn, Ytest = train_test_split(tsfresh_extracted,pd.DataFrame(pd.DataFrame(df[['Appliances','time']].groupby(['time'])['Appliances'].mean()).reset_index()['Appliances']),test_size=0.2,random_state=42)\n",
    "\n",
    "\n",
    "Xtrn, Xtest, Ytrn, Ytest= train_test_split(tsfresh_extracted, temp_set, test_size = 0.2, random_state = 42)\n",
    "\n",
    "model = ExtraTreesRegressor()\n",
    "\n",
    "\n",
    "\n",
    "# get model name\n",
    "m = str(model)\n",
    "\n",
    "# fit model on training dataset\n",
    "model.fit(Xtrn, Ytrn)\n",
    "# predict consumption\n",
    "predictions = model.predict(Xtest)\n",
    "#Evaluation for Testing set\n",
    "#R2 score\n",
    "R2_test_t = r2_score(Ytest,predictions)\n",
    "print(\"R2_test:\",R2_test_t)\n",
    "#Mean Absolute Error(MAE)\n",
    "MAE_test_t= mean_absolute_error(Ytest,predictions)\n",
    "print('MAE_test:',MAE_test_t)\n",
    "#Mean Squared Error(MSE)\n",
    "MSE_test_t= mean_squared_error(Ytest,predictions)\n",
    "print('MSE_test:',MSE_test_t)\n",
    "#Root Mean Squared Error (RMSE)\n",
    "RMSE_test_t= np.sqrt(mean_squared_error(Ytest,predictions))\n",
    "print('RMSE_test:',RMSE_test_t)\n",
    "#Evaluation for Training test\n",
    "predictions_trn = model.predict(Xtrn)\n",
    "#R2_Score\n",
    "R2_train_t = r2_score(Ytrn,predictions_trn)\n",
    "print('R2_train:',R2_train_t)\n",
    "#Mean Absolute Error(MAE)\n",
    "MAE_train_t= mean_absolute_error(Ytrn,predictions_trn)\n",
    "print('MAE_train:',MAE_train_t)\n",
    "#Mean Squared Error(MSE)\n",
    "MSE_train_t= mean_squared_error(Ytrn,predictions_trn)\n",
    "print('MSE_train:',MSE_train_t)\n",
    "#Root Mean Squared Error (RMSE)\n",
    "RMSE_train_t = np.sqrt(mean_squared_error(Ytrn,predictions_trn))\n",
    "print('RMSE_train:',RMSE_train_t)"
   ]
  },
  {
   "cell_type": "markdown",
   "metadata": {},
   "source": [
    "<b>TSFRESH deals with creation of calculated features based on individual entities present in the dataset.<br><br>\n",
    "In the First extraction the features calculated are more than 1200 and, we can further impute the results to get more\n",
    "relevant features, Or it has a extract_relevant_feature method which does all of the above in one step.</b>"
   ]
  },
  {
   "cell_type": "markdown",
   "metadata": {},
   "source": [
    "<u><h2><b>IMPLEMENTATION OF RFE (RECURSIVE FEATURE SELECTION)</b></h2></u>"
   ]
  },
  {
   "cell_type": "code",
   "execution_count": 639,
   "metadata": {},
   "outputs": [],
   "source": [
    "from sklearn.feature_selection import RFE\n",
    "from sklearn.svm import LinearSVC\n",
    "from mlxtend.feature_selection import SequentialFeatureSelector as SFS"
   ]
  },
  {
   "cell_type": "code",
   "execution_count": 640,
   "metadata": {
    "collapsed": true
   },
   "outputs": [],
   "source": [
    "RFR = RandomForestRegressor(n_estimators=100, max_features='sqrt')"
   ]
  },
  {
   "cell_type": "code",
   "execution_count": 641,
   "metadata": {
    "collapsed": true
   },
   "outputs": [],
   "source": [
    "rfe = RFE(RFR, 13)"
   ]
  },
  {
   "cell_type": "code",
   "execution_count": 644,
   "metadata": {},
   "outputs": [],
   "source": [
    "rfe = rfe.fit(training_data,df_train['Appliances'])"
   ]
  },
  {
   "cell_type": "code",
   "execution_count": 645,
   "metadata": {},
   "outputs": [
    {
     "name": "stdout",
     "output_type": "stream",
     "text": [
      "[False False  True False  True  True  True False False False  True  True\n",
      " False  True  True  True False False  True  True False False  True False\n",
      " False  True False]\n",
      "[10  9  1  2  1  1  1  6  8  4  1  1  7  1  1  1  3  5  1  1 11 13  1 15 12\n",
      "  1 14]\n"
     ]
    },
    {
     "data": {
      "text/plain": [
       "27"
      ]
     },
     "execution_count": 645,
     "metadata": {},
     "output_type": "execute_result"
    }
   ],
   "source": [
    "print(rfe.support_)\n",
    "print(rfe.ranking_)\n",
    "len(rfe.support_)"
   ]
  },
  {
   "cell_type": "code",
   "execution_count": 646,
   "metadata": {},
   "outputs": [
    {
     "name": "stdout",
     "output_type": "stream",
     "text": [
      "lights : False, rank: 10\n",
      "T1 : False, rank: 9\n",
      "RH_1 : True, rank: 1\n",
      "T2 : False, rank: 2\n",
      "RH_2 : True, rank: 1\n",
      "T3 : True, rank: 1\n",
      "RH_3 : True, rank: 1\n",
      "T4 : False, rank: 6\n",
      "RH_4 : False, rank: 8\n",
      "T5 : False, rank: 4\n",
      "RH_5 : True, rank: 1\n",
      "RH_6 : True, rank: 1\n",
      "T7 : False, rank: 7\n",
      "RH_7 : True, rank: 1\n",
      "T8 : True, rank: 1\n",
      "RH_8 : True, rank: 1\n",
      "RH_9 : False, rank: 3\n",
      "T_out : False, rank: 5\n",
      "Press_mm_hg : True, rank: 1\n",
      "RH_out : True, rank: 1\n",
      "Windspeed : False, rank: 11\n",
      "Visibility : False, rank: 13\n",
      "Tdewpoint : True, rank: 1\n",
      "month : False, rank: 15\n",
      "DOY : False, rank: 12\n",
      "NSM : True, rank: 1\n",
      "Day of Week : False, rank: 14\n"
     ]
    }
   ],
   "source": [
    "rfe_features = []\n",
    "for i in range(len(training_data.columns)):\n",
    "    if rfe.ranking_[i] == 1:\n",
    "        rfe_features.append(training_data.columns[i])\n",
    "    print(str(training_data.columns[i])+\" : \"+str(rfe.support_[i])+\", rank: \"+str(rfe.ranking_[i]))"
   ]
  },
  {
   "cell_type": "code",
   "execution_count": 647,
   "metadata": {
    "collapsed": true
   },
   "outputs": [],
   "source": [
    "training_data_rfe = training_data[rfe_features]"
   ]
  },
  {
   "cell_type": "code",
   "execution_count": 648,
   "metadata": {
    "collapsed": true
   },
   "outputs": [],
   "source": [
    "testing_data_rfe = testing_data[rfe_features]"
   ]
  },
  {
   "cell_type": "code",
   "execution_count": 649,
   "metadata": {},
   "outputs": [
    {
     "name": "stdout",
     "output_type": "stream",
     "text": [
      "R2_test: 0.608160981771\n",
      "MAE_test: 27.7562705853\n",
      "MSE_test: 3539.83227768\n",
      "RMSE_test: 59.4964896248\n",
      "R2_train: 0.999999976706\n",
      "MAE_train: 0.000253356979985\n",
      "MSE_train: 0.000253356979985\n",
      "RMSE_train: 0.0159171913347\n"
     ]
    }
   ],
   "source": [
    "\n",
    "#prepare dataset  \n",
    "#....   \n",
    "#spilt dataset\n",
    "#Xtrn, Xtest, Ytrn, Ytest = train_test_split(X1_rfe, df['Appliances'],test_size=0.2,random_state=42)\n",
    "\n",
    "\n",
    "\n",
    "\n",
    "#Xtrn, Xtest, Ytrn, Ytest = train_test_split(training_data_rfe, df_train['Appliances'],test_size=0.2,random_state=42)\n",
    "\n",
    "Xtrn = training_data_rfe\n",
    "Ytrn = df_train['Appliances']\n",
    "Xtest = testing_data_rfe\n",
    "Ytest = df_test['Appliances']\n",
    "\n",
    "\n",
    "# model = RandomForestRegressor(n_estimators=150, max_features='sqrt', n_jobs=-1)  # случайный лес\n",
    "model = ExtraTreesRegressor()\n",
    "\n",
    "# get model name\n",
    "m = str(model)\n",
    "\n",
    "# fit model on training dataset\n",
    "model.fit(Xtrn, Ytrn)\n",
    "# predict consumption\n",
    "predictions = model.predict(Xtest)\n",
    "#Evaluation for Testing set\n",
    "#R2 score\n",
    "R2_test_r = r2_score(Ytest,predictions)\n",
    "print(\"R2_test:\",R2_test_r)\n",
    "#Mean Absolute Error(MAE)\n",
    "MAE_test_r= mean_absolute_error(Ytest,predictions)\n",
    "print('MAE_test:',MAE_test_r)\n",
    "#Mean Squared Error(MSE)\n",
    "MSE_test_r= mean_squared_error(Ytest,predictions)\n",
    "print('MSE_test:',MSE_test_r)\n",
    "#Root Mean Squared Error (RMSE)\n",
    "RMSE_test_r= np.sqrt(mean_squared_error(Ytest,predictions))\n",
    "print('RMSE_test:',RMSE_test_r)\n",
    "#Evaluation for Training test\n",
    "predictions_trn = model.predict(Xtrn)\n",
    "#R2_Score\n",
    "R2_train_r = r2_score(Ytrn,predictions_trn)\n",
    "print('R2_train:',R2_train_r)\n",
    "#Mean Absolute Error(MAE)\n",
    "MAE_train_r= mean_absolute_error(Ytrn,predictions_trn)\n",
    "print('MAE_train:',MAE_train_r)\n",
    "#Mean Squared Error(MSE)\n",
    "MSE_train_r= mean_squared_error(Ytrn,predictions_trn)\n",
    "print('MSE_train:',MSE_train_r)\n",
    "#Root Mean Squared Error (RMSE)\n",
    "RMSE_train_r = np.sqrt(mean_squared_error(Ytrn,predictions_trn))\n",
    "print('RMSE_train:',RMSE_train_r)"
   ]
  },
  {
   "cell_type": "markdown",
   "metadata": {},
   "source": [
    "<b>RFE (RECURSIVE FEATURE ELIMINATION) is somewhat similar to boruta as it also ranks the features, but the good aspect using this method is we can select number of relevant features we want.<br><br> In this case we have chosen value of 13 so it returns the best 13 features present in the dataset.</b>"
   ]
  },
  {
   "cell_type": "markdown",
   "metadata": {},
   "source": [
    "<u><h2><b>PLOTTING THE METRIC VALUES FOR FEATURES SELECTED, ON DIFFERENT MODELS</b></h2></u>"
   ]
  },
  {
   "cell_type": "code",
   "execution_count": 650,
   "metadata": {
    "collapsed": true
   },
   "outputs": [],
   "source": [
    "R2_train_values = [R2_train_b, R2_train_fb, R2_train_t, R2_train_r]"
   ]
  },
  {
   "cell_type": "code",
   "execution_count": 651,
   "metadata": {
    "collapsed": true
   },
   "outputs": [],
   "source": [
    "MAE_train_values = [MAE_train_b, MAE_train_fb, MAE_train_t, MAE_train_r]"
   ]
  },
  {
   "cell_type": "code",
   "execution_count": 652,
   "metadata": {
    "collapsed": true
   },
   "outputs": [],
   "source": [
    "MSE_train_values = [MSE_train_b, MSE_train_fb, MSE_train_t, MSE_train_r]"
   ]
  },
  {
   "cell_type": "code",
   "execution_count": 653,
   "metadata": {
    "collapsed": true
   },
   "outputs": [],
   "source": [
    "RMSE_train_values = [RMSE_train_b, RMSE_train_fb, RMSE_train_t, RMSE_train_r]"
   ]
  },
  {
   "cell_type": "code",
   "execution_count": 654,
   "metadata": {},
   "outputs": [],
   "source": [
    "names = ['Boruta','Forward_backward','Tsfresh','rfe']"
   ]
  },
  {
   "cell_type": "markdown",
   "metadata": {},
   "source": [
    "<u><h3><b>R2 VALUES IN TEST</b></h3></u>"
   ]
  },
  {
   "cell_type": "code",
   "execution_count": 655,
   "metadata": {},
   "outputs": [
    {
     "data": {
      "image/png": "[encoded data removed]",
      "text/plain": [
       "<matplotlib.figure.Figure at 0x12fae8978>"
      ]
     },
     "metadata": {},
     "output_type": "display_data"
    }
   ],
   "source": [
    "y_pos = np.arange(len(names))\n",
    "performance = R2_test_values\n",
    " \n",
    "plt.bar(y_pos, performance, align='center', alpha=0.5)\n",
    "plt.xticks(y_pos, names)\n",
    "plt.ylabel('Value')\n",
    "plt.title('R2 values in test')\n",
    "plt.show()"
   ]
  },
  {
   "cell_type": "markdown",
   "metadata": {},
   "source": [
    "<u><h3><b>MSE VALUES IN TEST</b></h3></u>"
   ]
  },
  {
   "cell_type": "code",
   "execution_count": 656,
   "metadata": {},
   "outputs": [
    {
     "data": {
      "image/png": "[encoded data removed]",
      "text/plain": [
       "<matplotlib.figure.Figure at 0x12fb09128>"
      ]
     },
     "metadata": {},
     "output_type": "display_data"
    }
   ],
   "source": [
    "y_pos = np.arange(len(names))\n",
    "performance = MSE_test_values\n",
    " \n",
    "plt.bar(y_pos, performance, align='center', alpha=0.5)\n",
    "plt.xticks(y_pos, names)\n",
    "plt.ylabel('Value')\n",
    "plt.title('MSE values in test')\n",
    "plt.show()"
   ]
  },
  {
   "cell_type": "markdown",
   "metadata": {},
   "source": [
    "<u><h3><b>MAE VALUES IN TEST</b></h3></u>"
   ]
  },
  {
   "cell_type": "code",
   "execution_count": 657,
   "metadata": {},
   "outputs": [
    {
     "data": {
      "image/png": "[encoded data removed]",
      "text/plain": [
       "<matplotlib.figure.Figure at 0x1bb828da0>"
      ]
     },
     "metadata": {},
     "output_type": "display_data"
    }
   ],
   "source": [
    "y_pos = np.arange(len(names))\n",
    "performance = MAE_test_values\n",
    " \n",
    "plt.bar(y_pos, performance, align='center', alpha=0.5)\n",
    "plt.xticks(y_pos, names)\n",
    "plt.ylabel('Value')\n",
    "plt.title('MAE values in test')\n",
    "plt.show()"
   ]
  },
  {
   "cell_type": "markdown",
   "metadata": {},
   "source": [
    "<u><h3><b>RMSE VALUES IN TEST</b></h3></u>"
   ]
  },
  {
   "cell_type": "code",
   "execution_count": 658,
   "metadata": {},
   "outputs": [
    {
     "data": {
      "image/png": "[encoded data removed]",
      "text/plain": [
       "<matplotlib.figure.Figure at 0x1bf40aa58>"
      ]
     },
     "metadata": {},
     "output_type": "display_data"
    }
   ],
   "source": [
    "y_pos = np.arange(len(names))\n",
    "performance = RMSE_test_values\n",
    " \n",
    "plt.bar(y_pos, performance, align='center', alpha=0.5)\n",
    "plt.xticks(y_pos, names)\n",
    "plt.ylabel('Value')\n",
    "plt.title('RMSE values in test')\n",
    "plt.show()"
   ]
  },
  {
   "cell_type": "markdown",
   "metadata": {},
   "source": [
    "<u><h2><b>IMPLEMENTATION OF TPOT</b></h2></u>"
   ]
  },
  {
   "cell_type": "code",
   "execution_count": 486,
   "metadata": {},
   "outputs": [
    {
     "name": "stdout",
     "output_type": "stream",
     "text": [
      "Warning: xgboost.XGBRegressor is not available and will not be used by TPOT.\n"
     ]
    },
    {
     "name": "stderr",
     "output_type": "stream",
     "text": [
      "Optimization Progress:  33%|███▎      | 40/120 [11:33<25:15, 18.94s/pipeline]  "
     ]
    },
    {
     "name": "stdout",
     "output_type": "stream",
     "text": [
      "Generation 1 - Current best internal CV score: -6148.802158466199\n"
     ]
    },
    {
     "name": "stderr",
     "output_type": "stream",
     "text": [
      "Optimization Progress:  50%|█████     | 60/120 [42:23<3:43:24, 223.41s/pipeline]"
     ]
    },
    {
     "name": "stdout",
     "output_type": "stream",
     "text": [
      "Generation 2 - Current best internal CV score: -6059.968447525783\n"
     ]
    },
    {
     "name": "stderr",
     "output_type": "stream",
     "text": [
      "Optimization Progress:  67%|██████▋   | 80/120 [1:32:08<36:11, 54.29s/pipeline]    "
     ]
    },
    {
     "name": "stdout",
     "output_type": "stream",
     "text": [
      "Generation 3 - Current best internal CV score: -5737.384617534397\n"
     ]
    },
    {
     "name": "stderr",
     "output_type": "stream",
     "text": [
      "Optimization Progress:  84%|████████▍ | 101/120 [2:01:32<29:04, 91.82s/pipeline]  "
     ]
    },
    {
     "name": "stdout",
     "output_type": "stream",
     "text": [
      "Generation 4 - Current best internal CV score: -5733.0574745793765\n"
     ]
    },
    {
     "name": "stderr",
     "output_type": "stream",
     "text": [
      "                                                                                \r"
     ]
    },
    {
     "name": "stdout",
     "output_type": "stream",
     "text": [
      "Generation 5 - Current best internal CV score: -5733.0574745793765\n",
      "\n",
      "Best pipeline: ExtraTreesRegressor(RandomForestRegressor(input_matrix, bootstrap=False, max_features=0.5, min_samples_leaf=20, min_samples_split=8, n_estimators=100), bootstrap=True, max_features=0.55, min_samples_leaf=5, min_samples_split=11, n_estimators=100)\n",
      "-5108.85878747\n"
     ]
    }
   ],
   "source": [
    "from sklearn.cross_validation import train_test_split  \n",
    "from tpot import TPOTRegressor  \n",
    "X = X1.values  \n",
    "y = Y1.values  \n",
    "X_train, X_test, y_train, y_test = train_test_split(X, y,  \n",
    "                                                train_size=0.75,  \n",
    "                                                test_size=0.25)  \n",
    "my_tpot = TPOTRegressor(generations=5, population_size = 20 , verbosity= 2)\n",
    "my_tpot.fit(X_train, y_train)  \n",
    "print(my_tpot.score(X_test, y_test))"
   ]
  }
 ],
 "metadata": {
  "kernelspec": {
   "display_name": "Python 3",
   "language": "python",
   "name": "python3"
  },
  "language_info": {
   "codemirror_mode": {
    "name": "ipython",
    "version": 3
   },
   "file_extension": ".py",
   "mimetype": "text/x-python",
   "name": "python",
   "nbconvert_exporter": "python",
   "pygments_lexer": "ipython3",
   "version": "3.6.3"
  }
 },
 "nbformat": 4,
 "nbformat_minor": 2
}
